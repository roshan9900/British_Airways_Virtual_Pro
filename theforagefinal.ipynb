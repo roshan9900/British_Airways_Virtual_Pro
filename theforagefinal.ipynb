{
  "cells": [
    {
      "cell_type": "code",
      "execution_count": 194,
      "id": "95bed76d",
      "metadata": {
        "id": "95bed76d"
      },
      "outputs": [],
      "source": [
        "from bs4 import BeautifulSoup\n",
        "import requests\n",
        "import pandas as pd\n",
        "import numpy as np\n",
        "import re\n",
        "import datetime as dt\n",
        "import seaborn as sns\n",
        "import matplotlib.pyplot as plt\n",
        "%matplotlib inline\n",
        "import plotly.graph_objects as go\n",
        "import plotly.express as px\n",
        "import gensim\n",
        "from gensim import corpora\n",
        "from gensim.utils import simple_preprocess\n",
        "from gensim.models import CoherenceModel\n",
        "\n",
        "# Import all the required libraries\n",
        "import nltk\n",
        "from nltk.corpus import stopwords\n",
        "from nltk.stem import WordNetLemmatizer\n",
        "from nltk.stem import PorterStemmer\n",
        "\n",
        "from sklearn.feature_extraction.text import TfidfVectorizer, CountVectorizer, TfidfTransformer\n",
        "from sklearn.pipeline import Pipeline\n",
        "from sklearn.metrics import accuracy_score, classification_report, confusion_matrix\n",
        "#import stopwords and text processing libraries\n",
        "import warnings\n",
        "warnings.filterwarnings('ignore')"
      ]
    },
    {
      "cell_type": "code",
      "execution_count": 195,
      "id": "56bdb7bd",
      "metadata": {
        "id": "56bdb7bd"
      },
      "outputs": [],
      "source": [
        "from wordcloud import WordCloud"
      ]
    },
    {
      "cell_type": "code",
      "source": [
        "nltk.download('vader_lexicon')\n",
        "nltk.download('punkt')\n",
        "nltk.download('stopwords')\n",
        "nltk.download('wordnet')"
      ],
      "metadata": {
        "colab": {
          "base_uri": "https://localhost:8080/"
        },
        "id": "BO9jS_o1parb",
        "outputId": "64d3f221-b637-45dd-9566-5f0572f9d5f7"
      },
      "id": "BO9jS_o1parb",
      "execution_count": 196,
      "outputs": [
        {
          "output_type": "stream",
          "name": "stderr",
          "text": [
            "[nltk_data] Downloading package vader_lexicon to /root/nltk_data...\n",
            "[nltk_data]   Package vader_lexicon is already up-to-date!\n",
            "[nltk_data] Downloading package punkt to /root/nltk_data...\n",
            "[nltk_data]   Package punkt is already up-to-date!\n",
            "[nltk_data] Downloading package stopwords to /root/nltk_data...\n",
            "[nltk_data]   Package stopwords is already up-to-date!\n",
            "[nltk_data] Downloading package wordnet to /root/nltk_data...\n",
            "[nltk_data]   Package wordnet is already up-to-date!\n"
          ]
        },
        {
          "output_type": "execute_result",
          "data": {
            "text/plain": [
              "True"
            ]
          },
          "metadata": {},
          "execution_count": 196
        }
      ]
    },
    {
      "cell_type": "code",
      "execution_count": 197,
      "id": "3291e70e",
      "metadata": {
        "id": "3291e70e"
      },
      "outputs": [],
      "source": [
        "#%%time\n",
        "#final = pd.DataFrame()\n",
        "#for j in range(1,360):\n",
        "#    url = f'https://www.airlinequality.com/airline-reviews/british-airways/page/{j}/'\n",
        "#    d = requests.get(url).text\n",
        "#    soup = BeautifulSoup(d, 'lxml')\n",
        "#    company = soup.find_all('article',class_='comp_media-review-rated')\n",
        "#\n",
        "#    title = []\n",
        "#    reviews = []\n",
        "#    date = []\n",
        "#    place = []\n",
        "#\n",
        "#    for i in company:\n",
        "#        title.append(i.find('h2', class_='text_header').text.strip())\n",
        "#    ###---------------------------------------------------------------###\n",
        "#        reviews.append(i.find('div',class_=\"text_content\").text.strip())\n",
        "#    ###---------------------------------------------------------------###\n",
        "#        date.append(i.find('time').text.strip())\n",
        "#    ###---------------------------------------------------------------###\n",
        "#        text = i.find('h3',class_='text_sub_header').text\n",
        "#        match = re.search(r'\\((.*?)\\)', text)\n",
        "#        if match:\n",
        "#            plac = match.group(1)\n",
        "#            place.append(plac)\n",
        "#    ###---------------------------------------------------------------###\n",
        "#\n",
        "#    df = pd.DataFrame({'title':title, 'reviews':reviews, 'date':date,'place':place})\n",
        "#    ###---------------------------------------------------------------###\n",
        "#\n",
        "#    final = final.append(df)"
      ]
    },
    {
      "cell_type": "code",
      "execution_count": 198,
      "id": "522bd7b3",
      "metadata": {
        "id": "522bd7b3"
      },
      "outputs": [],
      "source": [
        "df = pd.read_csv('/content/briaircusrev.csv')"
      ]
    },
    {
      "cell_type": "code",
      "execution_count": 199,
      "id": "31f41828",
      "metadata": {
        "colab": {
          "base_uri": "https://localhost:8080/",
          "height": 206
        },
        "id": "31f41828",
        "outputId": "e96d3487-aaac-4cd5-8487-e820f59d5f00"
      },
      "outputs": [
        {
          "output_type": "execute_result",
          "data": {
            "text/plain": [
              "   Unnamed: 0                          title  \\\n",
              "0           0  \"no boarding drinks provided\"   \n",
              "1           1             \"WiFi didn't work\"   \n",
              "2           2           \"stick with economy\"   \n",
              "3           3    \"Communication is terrible\"   \n",
              "4           4     \"delays and cancellations\"   \n",
              "\n",
              "                                             reviews            date  \\\n",
              "0  ✅ Trip Verified |  First time flying with BA b...  25th June 2023   \n",
              "1  Not Verified | You can buy sandwiches and cris...  24th June 2023   \n",
              "2  ✅ Trip Verified |  This is a two-for-one revie...  24th June 2023   \n",
              "3  ✅ Trip Verified | Absolutely horrible airline....  23rd June 2023   \n",
              "4  ✅ Trip Verified |  Having experienced delays a...  22nd June 2023   \n",
              "\n",
              "            place  \n",
              "0  United Kingdom  \n",
              "1  United Kingdom  \n",
              "2  United Kingdom  \n",
              "3   United States  \n",
              "4   United States  "
            ],
            "text/html": [
              "\n",
              "  <div id=\"df-59f862e9-499f-4830-8153-56aee79f003e\">\n",
              "    <div class=\"colab-df-container\">\n",
              "      <div>\n",
              "<style scoped>\n",
              "    .dataframe tbody tr th:only-of-type {\n",
              "        vertical-align: middle;\n",
              "    }\n",
              "\n",
              "    .dataframe tbody tr th {\n",
              "        vertical-align: top;\n",
              "    }\n",
              "\n",
              "    .dataframe thead th {\n",
              "        text-align: right;\n",
              "    }\n",
              "</style>\n",
              "<table border=\"1\" class=\"dataframe\">\n",
              "  <thead>\n",
              "    <tr style=\"text-align: right;\">\n",
              "      <th></th>\n",
              "      <th>Unnamed: 0</th>\n",
              "      <th>title</th>\n",
              "      <th>reviews</th>\n",
              "      <th>date</th>\n",
              "      <th>place</th>\n",
              "    </tr>\n",
              "  </thead>\n",
              "  <tbody>\n",
              "    <tr>\n",
              "      <th>0</th>\n",
              "      <td>0</td>\n",
              "      <td>\"no boarding drinks provided\"</td>\n",
              "      <td>✅ Trip Verified |  First time flying with BA b...</td>\n",
              "      <td>25th June 2023</td>\n",
              "      <td>United Kingdom</td>\n",
              "    </tr>\n",
              "    <tr>\n",
              "      <th>1</th>\n",
              "      <td>1</td>\n",
              "      <td>\"WiFi didn't work\"</td>\n",
              "      <td>Not Verified | You can buy sandwiches and cris...</td>\n",
              "      <td>24th June 2023</td>\n",
              "      <td>United Kingdom</td>\n",
              "    </tr>\n",
              "    <tr>\n",
              "      <th>2</th>\n",
              "      <td>2</td>\n",
              "      <td>\"stick with economy\"</td>\n",
              "      <td>✅ Trip Verified |  This is a two-for-one revie...</td>\n",
              "      <td>24th June 2023</td>\n",
              "      <td>United Kingdom</td>\n",
              "    </tr>\n",
              "    <tr>\n",
              "      <th>3</th>\n",
              "      <td>3</td>\n",
              "      <td>\"Communication is terrible\"</td>\n",
              "      <td>✅ Trip Verified | Absolutely horrible airline....</td>\n",
              "      <td>23rd June 2023</td>\n",
              "      <td>United States</td>\n",
              "    </tr>\n",
              "    <tr>\n",
              "      <th>4</th>\n",
              "      <td>4</td>\n",
              "      <td>\"delays and cancellations\"</td>\n",
              "      <td>✅ Trip Verified |  Having experienced delays a...</td>\n",
              "      <td>22nd June 2023</td>\n",
              "      <td>United States</td>\n",
              "    </tr>\n",
              "  </tbody>\n",
              "</table>\n",
              "</div>\n",
              "      <button class=\"colab-df-convert\" onclick=\"convertToInteractive('df-59f862e9-499f-4830-8153-56aee79f003e')\"\n",
              "              title=\"Convert this dataframe to an interactive table.\"\n",
              "              style=\"display:none;\">\n",
              "        \n",
              "  <svg xmlns=\"http://www.w3.org/2000/svg\" height=\"24px\"viewBox=\"0 0 24 24\"\n",
              "       width=\"24px\">\n",
              "    <path d=\"M0 0h24v24H0V0z\" fill=\"none\"/>\n",
              "    <path d=\"M18.56 5.44l.94 2.06.94-2.06 2.06-.94-2.06-.94-.94-2.06-.94 2.06-2.06.94zm-11 1L8.5 8.5l.94-2.06 2.06-.94-2.06-.94L8.5 2.5l-.94 2.06-2.06.94zm10 10l.94 2.06.94-2.06 2.06-.94-2.06-.94-.94-2.06-.94 2.06-2.06.94z\"/><path d=\"M17.41 7.96l-1.37-1.37c-.4-.4-.92-.59-1.43-.59-.52 0-1.04.2-1.43.59L10.3 9.45l-7.72 7.72c-.78.78-.78 2.05 0 2.83L4 21.41c.39.39.9.59 1.41.59.51 0 1.02-.2 1.41-.59l7.78-7.78 2.81-2.81c.8-.78.8-2.07 0-2.86zM5.41 20L4 18.59l7.72-7.72 1.47 1.35L5.41 20z\"/>\n",
              "  </svg>\n",
              "      </button>\n",
              "      \n",
              "  <style>\n",
              "    .colab-df-container {\n",
              "      display:flex;\n",
              "      flex-wrap:wrap;\n",
              "      gap: 12px;\n",
              "    }\n",
              "\n",
              "    .colab-df-convert {\n",
              "      background-color: #E8F0FE;\n",
              "      border: none;\n",
              "      border-radius: 50%;\n",
              "      cursor: pointer;\n",
              "      display: none;\n",
              "      fill: #1967D2;\n",
              "      height: 32px;\n",
              "      padding: 0 0 0 0;\n",
              "      width: 32px;\n",
              "    }\n",
              "\n",
              "    .colab-df-convert:hover {\n",
              "      background-color: #E2EBFA;\n",
              "      box-shadow: 0px 1px 2px rgba(60, 64, 67, 0.3), 0px 1px 3px 1px rgba(60, 64, 67, 0.15);\n",
              "      fill: #174EA6;\n",
              "    }\n",
              "\n",
              "    [theme=dark] .colab-df-convert {\n",
              "      background-color: #3B4455;\n",
              "      fill: #D2E3FC;\n",
              "    }\n",
              "\n",
              "    [theme=dark] .colab-df-convert:hover {\n",
              "      background-color: #434B5C;\n",
              "      box-shadow: 0px 1px 3px 1px rgba(0, 0, 0, 0.15);\n",
              "      filter: drop-shadow(0px 1px 2px rgba(0, 0, 0, 0.3));\n",
              "      fill: #FFFFFF;\n",
              "    }\n",
              "  </style>\n",
              "\n",
              "      <script>\n",
              "        const buttonEl =\n",
              "          document.querySelector('#df-59f862e9-499f-4830-8153-56aee79f003e button.colab-df-convert');\n",
              "        buttonEl.style.display =\n",
              "          google.colab.kernel.accessAllowed ? 'block' : 'none';\n",
              "\n",
              "        async function convertToInteractive(key) {\n",
              "          const element = document.querySelector('#df-59f862e9-499f-4830-8153-56aee79f003e');\n",
              "          const dataTable =\n",
              "            await google.colab.kernel.invokeFunction('convertToInteractive',\n",
              "                                                     [key], {});\n",
              "          if (!dataTable) return;\n",
              "\n",
              "          const docLinkHtml = 'Like what you see? Visit the ' +\n",
              "            '<a target=\"_blank\" href=https://colab.research.google.com/notebooks/data_table.ipynb>data table notebook</a>'\n",
              "            + ' to learn more about interactive tables.';\n",
              "          element.innerHTML = '';\n",
              "          dataTable['output_type'] = 'display_data';\n",
              "          await google.colab.output.renderOutput(dataTable, element);\n",
              "          const docLink = document.createElement('div');\n",
              "          docLink.innerHTML = docLinkHtml;\n",
              "          element.appendChild(docLink);\n",
              "        }\n",
              "      </script>\n",
              "    </div>\n",
              "  </div>\n",
              "  "
            ]
          },
          "metadata": {},
          "execution_count": 199
        }
      ],
      "source": [
        "df.head()"
      ]
    },
    {
      "cell_type": "code",
      "execution_count": 200,
      "id": "fcd92abd",
      "metadata": {
        "id": "fcd92abd"
      },
      "outputs": [],
      "source": [
        "df.drop('Unnamed: 0',axis=1,inplace=True)"
      ]
    },
    {
      "cell_type": "code",
      "execution_count": 201,
      "id": "344615d7",
      "metadata": {
        "colab": {
          "base_uri": "https://localhost:8080/",
          "height": 206
        },
        "id": "344615d7",
        "outputId": "3e3e4678-480d-448a-f45c-86d6339a4f3f"
      },
      "outputs": [
        {
          "output_type": "execute_result",
          "data": {
            "text/plain": [
              "                           title  \\\n",
              "0  \"no boarding drinks provided\"   \n",
              "1             \"WiFi didn't work\"   \n",
              "2           \"stick with economy\"   \n",
              "3    \"Communication is terrible\"   \n",
              "4     \"delays and cancellations\"   \n",
              "\n",
              "                                             reviews            date  \\\n",
              "0  ✅ Trip Verified |  First time flying with BA b...  25th June 2023   \n",
              "1  Not Verified | You can buy sandwiches and cris...  24th June 2023   \n",
              "2  ✅ Trip Verified |  This is a two-for-one revie...  24th June 2023   \n",
              "3  ✅ Trip Verified | Absolutely horrible airline....  23rd June 2023   \n",
              "4  ✅ Trip Verified |  Having experienced delays a...  22nd June 2023   \n",
              "\n",
              "            place  \n",
              "0  United Kingdom  \n",
              "1  United Kingdom  \n",
              "2  United Kingdom  \n",
              "3   United States  \n",
              "4   United States  "
            ],
            "text/html": [
              "\n",
              "  <div id=\"df-601deede-3278-4e92-958e-a9da3658aa0e\">\n",
              "    <div class=\"colab-df-container\">\n",
              "      <div>\n",
              "<style scoped>\n",
              "    .dataframe tbody tr th:only-of-type {\n",
              "        vertical-align: middle;\n",
              "    }\n",
              "\n",
              "    .dataframe tbody tr th {\n",
              "        vertical-align: top;\n",
              "    }\n",
              "\n",
              "    .dataframe thead th {\n",
              "        text-align: right;\n",
              "    }\n",
              "</style>\n",
              "<table border=\"1\" class=\"dataframe\">\n",
              "  <thead>\n",
              "    <tr style=\"text-align: right;\">\n",
              "      <th></th>\n",
              "      <th>title</th>\n",
              "      <th>reviews</th>\n",
              "      <th>date</th>\n",
              "      <th>place</th>\n",
              "    </tr>\n",
              "  </thead>\n",
              "  <tbody>\n",
              "    <tr>\n",
              "      <th>0</th>\n",
              "      <td>\"no boarding drinks provided\"</td>\n",
              "      <td>✅ Trip Verified |  First time flying with BA b...</td>\n",
              "      <td>25th June 2023</td>\n",
              "      <td>United Kingdom</td>\n",
              "    </tr>\n",
              "    <tr>\n",
              "      <th>1</th>\n",
              "      <td>\"WiFi didn't work\"</td>\n",
              "      <td>Not Verified | You can buy sandwiches and cris...</td>\n",
              "      <td>24th June 2023</td>\n",
              "      <td>United Kingdom</td>\n",
              "    </tr>\n",
              "    <tr>\n",
              "      <th>2</th>\n",
              "      <td>\"stick with economy\"</td>\n",
              "      <td>✅ Trip Verified |  This is a two-for-one revie...</td>\n",
              "      <td>24th June 2023</td>\n",
              "      <td>United Kingdom</td>\n",
              "    </tr>\n",
              "    <tr>\n",
              "      <th>3</th>\n",
              "      <td>\"Communication is terrible\"</td>\n",
              "      <td>✅ Trip Verified | Absolutely horrible airline....</td>\n",
              "      <td>23rd June 2023</td>\n",
              "      <td>United States</td>\n",
              "    </tr>\n",
              "    <tr>\n",
              "      <th>4</th>\n",
              "      <td>\"delays and cancellations\"</td>\n",
              "      <td>✅ Trip Verified |  Having experienced delays a...</td>\n",
              "      <td>22nd June 2023</td>\n",
              "      <td>United States</td>\n",
              "    </tr>\n",
              "  </tbody>\n",
              "</table>\n",
              "</div>\n",
              "      <button class=\"colab-df-convert\" onclick=\"convertToInteractive('df-601deede-3278-4e92-958e-a9da3658aa0e')\"\n",
              "              title=\"Convert this dataframe to an interactive table.\"\n",
              "              style=\"display:none;\">\n",
              "        \n",
              "  <svg xmlns=\"http://www.w3.org/2000/svg\" height=\"24px\"viewBox=\"0 0 24 24\"\n",
              "       width=\"24px\">\n",
              "    <path d=\"M0 0h24v24H0V0z\" fill=\"none\"/>\n",
              "    <path d=\"M18.56 5.44l.94 2.06.94-2.06 2.06-.94-2.06-.94-.94-2.06-.94 2.06-2.06.94zm-11 1L8.5 8.5l.94-2.06 2.06-.94-2.06-.94L8.5 2.5l-.94 2.06-2.06.94zm10 10l.94 2.06.94-2.06 2.06-.94-2.06-.94-.94-2.06-.94 2.06-2.06.94z\"/><path d=\"M17.41 7.96l-1.37-1.37c-.4-.4-.92-.59-1.43-.59-.52 0-1.04.2-1.43.59L10.3 9.45l-7.72 7.72c-.78.78-.78 2.05 0 2.83L4 21.41c.39.39.9.59 1.41.59.51 0 1.02-.2 1.41-.59l7.78-7.78 2.81-2.81c.8-.78.8-2.07 0-2.86zM5.41 20L4 18.59l7.72-7.72 1.47 1.35L5.41 20z\"/>\n",
              "  </svg>\n",
              "      </button>\n",
              "      \n",
              "  <style>\n",
              "    .colab-df-container {\n",
              "      display:flex;\n",
              "      flex-wrap:wrap;\n",
              "      gap: 12px;\n",
              "    }\n",
              "\n",
              "    .colab-df-convert {\n",
              "      background-color: #E8F0FE;\n",
              "      border: none;\n",
              "      border-radius: 50%;\n",
              "      cursor: pointer;\n",
              "      display: none;\n",
              "      fill: #1967D2;\n",
              "      height: 32px;\n",
              "      padding: 0 0 0 0;\n",
              "      width: 32px;\n",
              "    }\n",
              "\n",
              "    .colab-df-convert:hover {\n",
              "      background-color: #E2EBFA;\n",
              "      box-shadow: 0px 1px 2px rgba(60, 64, 67, 0.3), 0px 1px 3px 1px rgba(60, 64, 67, 0.15);\n",
              "      fill: #174EA6;\n",
              "    }\n",
              "\n",
              "    [theme=dark] .colab-df-convert {\n",
              "      background-color: #3B4455;\n",
              "      fill: #D2E3FC;\n",
              "    }\n",
              "\n",
              "    [theme=dark] .colab-df-convert:hover {\n",
              "      background-color: #434B5C;\n",
              "      box-shadow: 0px 1px 3px 1px rgba(0, 0, 0, 0.15);\n",
              "      filter: drop-shadow(0px 1px 2px rgba(0, 0, 0, 0.3));\n",
              "      fill: #FFFFFF;\n",
              "    }\n",
              "  </style>\n",
              "\n",
              "      <script>\n",
              "        const buttonEl =\n",
              "          document.querySelector('#df-601deede-3278-4e92-958e-a9da3658aa0e button.colab-df-convert');\n",
              "        buttonEl.style.display =\n",
              "          google.colab.kernel.accessAllowed ? 'block' : 'none';\n",
              "\n",
              "        async function convertToInteractive(key) {\n",
              "          const element = document.querySelector('#df-601deede-3278-4e92-958e-a9da3658aa0e');\n",
              "          const dataTable =\n",
              "            await google.colab.kernel.invokeFunction('convertToInteractive',\n",
              "                                                     [key], {});\n",
              "          if (!dataTable) return;\n",
              "\n",
              "          const docLinkHtml = 'Like what you see? Visit the ' +\n",
              "            '<a target=\"_blank\" href=https://colab.research.google.com/notebooks/data_table.ipynb>data table notebook</a>'\n",
              "            + ' to learn more about interactive tables.';\n",
              "          element.innerHTML = '';\n",
              "          dataTable['output_type'] = 'display_data';\n",
              "          await google.colab.output.renderOutput(dataTable, element);\n",
              "          const docLink = document.createElement('div');\n",
              "          docLink.innerHTML = docLinkHtml;\n",
              "          element.appendChild(docLink);\n",
              "        }\n",
              "      </script>\n",
              "    </div>\n",
              "  </div>\n",
              "  "
            ]
          },
          "metadata": {},
          "execution_count": 201
        }
      ],
      "source": [
        "df.head()"
      ]
    },
    {
      "cell_type": "code",
      "execution_count": 202,
      "id": "da2df8f3",
      "metadata": {
        "id": "da2df8f3"
      },
      "outputs": [],
      "source": [
        "#df.set_index('date',inplace=True)\n",
        "#df.head()"
      ]
    },
    {
      "cell_type": "code",
      "execution_count": 203,
      "id": "c2e50fb9",
      "metadata": {
        "colab": {
          "base_uri": "https://localhost:8080/"
        },
        "id": "c2e50fb9",
        "outputId": "1966d813-3d97-496d-ed7c-60f8abc72334"
      },
      "outputs": [
        {
          "output_type": "stream",
          "name": "stdout",
          "text": [
            "<class 'pandas.core.frame.DataFrame'>\n",
            "RangeIndex: 2930 entries, 0 to 2929\n",
            "Data columns (total 4 columns):\n",
            " #   Column   Non-Null Count  Dtype \n",
            "---  ------   --------------  ----- \n",
            " 0   title    2930 non-null   object\n",
            " 1   reviews  2930 non-null   object\n",
            " 2   date     2930 non-null   object\n",
            " 3   place    2930 non-null   object\n",
            "dtypes: object(4)\n",
            "memory usage: 91.7+ KB\n"
          ]
        }
      ],
      "source": [
        "df.info()"
      ]
    },
    {
      "cell_type": "code",
      "execution_count": 204,
      "id": "00ba4156",
      "metadata": {
        "colab": {
          "base_uri": "https://localhost:8080/"
        },
        "id": "00ba4156",
        "outputId": "5f1d1534-1d91-4e2e-92de-38774c119b32"
      },
      "outputs": [
        {
          "output_type": "execute_result",
          "data": {
            "text/plain": [
              "title      0\n",
              "reviews    0\n",
              "date       0\n",
              "place      0\n",
              "dtype: int64"
            ]
          },
          "metadata": {},
          "execution_count": 204
        }
      ],
      "source": [
        "df.isnull().sum()"
      ]
    },
    {
      "cell_type": "code",
      "execution_count": 205,
      "id": "6047bc9a",
      "metadata": {
        "colab": {
          "base_uri": "https://localhost:8080/"
        },
        "id": "6047bc9a",
        "outputId": "678b07cd-e494-4840-d2ab-c4eb2f064f6a"
      },
      "outputs": [
        {
          "output_type": "execute_result",
          "data": {
            "text/plain": [
              "United Kingdom           1826\n",
              "United States             332\n",
              "Australia                 113\n",
              "Canada                     92\n",
              "Germany                    54\n",
              "                         ... \n",
              "Costa Rica                  1\n",
              "Cayman Islands              1\n",
              "Panama                      1\n",
              "Saint Kitts and Nevis       1\n",
              "Ukraine                     1\n",
              "Name: place, Length: 67, dtype: int64"
            ]
          },
          "metadata": {},
          "execution_count": 205
        }
      ],
      "source": [
        "df['place'].value_counts()"
      ]
    },
    {
      "cell_type": "code",
      "execution_count": 206,
      "id": "cd4d9747",
      "metadata": {
        "id": "cd4d9747"
      },
      "outputs": [],
      "source": [
        "df['date'] = pd.to_datetime(df['date'])"
      ]
    },
    {
      "cell_type": "code",
      "execution_count": 207,
      "id": "8b982871",
      "metadata": {
        "colab": {
          "base_uri": "https://localhost:8080/",
          "height": 206
        },
        "id": "8b982871",
        "outputId": "fe38cd6c-0492-4709-bf10-fc9f33aec5d6"
      },
      "outputs": [
        {
          "output_type": "execute_result",
          "data": {
            "text/plain": [
              "                           title  \\\n",
              "0  \"no boarding drinks provided\"   \n",
              "1             \"WiFi didn't work\"   \n",
              "2           \"stick with economy\"   \n",
              "3    \"Communication is terrible\"   \n",
              "4     \"delays and cancellations\"   \n",
              "\n",
              "                                             reviews       date  \\\n",
              "0  ✅ Trip Verified |  First time flying with BA b... 2023-06-25   \n",
              "1  Not Verified | You can buy sandwiches and cris... 2023-06-24   \n",
              "2  ✅ Trip Verified |  This is a two-for-one revie... 2023-06-24   \n",
              "3  ✅ Trip Verified | Absolutely horrible airline.... 2023-06-23   \n",
              "4  ✅ Trip Verified |  Having experienced delays a... 2023-06-22   \n",
              "\n",
              "            place  \n",
              "0  United Kingdom  \n",
              "1  United Kingdom  \n",
              "2  United Kingdom  \n",
              "3   United States  \n",
              "4   United States  "
            ],
            "text/html": [
              "\n",
              "  <div id=\"df-150bb948-ae29-49c3-a20f-d09b0af56f6a\">\n",
              "    <div class=\"colab-df-container\">\n",
              "      <div>\n",
              "<style scoped>\n",
              "    .dataframe tbody tr th:only-of-type {\n",
              "        vertical-align: middle;\n",
              "    }\n",
              "\n",
              "    .dataframe tbody tr th {\n",
              "        vertical-align: top;\n",
              "    }\n",
              "\n",
              "    .dataframe thead th {\n",
              "        text-align: right;\n",
              "    }\n",
              "</style>\n",
              "<table border=\"1\" class=\"dataframe\">\n",
              "  <thead>\n",
              "    <tr style=\"text-align: right;\">\n",
              "      <th></th>\n",
              "      <th>title</th>\n",
              "      <th>reviews</th>\n",
              "      <th>date</th>\n",
              "      <th>place</th>\n",
              "    </tr>\n",
              "  </thead>\n",
              "  <tbody>\n",
              "    <tr>\n",
              "      <th>0</th>\n",
              "      <td>\"no boarding drinks provided\"</td>\n",
              "      <td>✅ Trip Verified |  First time flying with BA b...</td>\n",
              "      <td>2023-06-25</td>\n",
              "      <td>United Kingdom</td>\n",
              "    </tr>\n",
              "    <tr>\n",
              "      <th>1</th>\n",
              "      <td>\"WiFi didn't work\"</td>\n",
              "      <td>Not Verified | You can buy sandwiches and cris...</td>\n",
              "      <td>2023-06-24</td>\n",
              "      <td>United Kingdom</td>\n",
              "    </tr>\n",
              "    <tr>\n",
              "      <th>2</th>\n",
              "      <td>\"stick with economy\"</td>\n",
              "      <td>✅ Trip Verified |  This is a two-for-one revie...</td>\n",
              "      <td>2023-06-24</td>\n",
              "      <td>United Kingdom</td>\n",
              "    </tr>\n",
              "    <tr>\n",
              "      <th>3</th>\n",
              "      <td>\"Communication is terrible\"</td>\n",
              "      <td>✅ Trip Verified | Absolutely horrible airline....</td>\n",
              "      <td>2023-06-23</td>\n",
              "      <td>United States</td>\n",
              "    </tr>\n",
              "    <tr>\n",
              "      <th>4</th>\n",
              "      <td>\"delays and cancellations\"</td>\n",
              "      <td>✅ Trip Verified |  Having experienced delays a...</td>\n",
              "      <td>2023-06-22</td>\n",
              "      <td>United States</td>\n",
              "    </tr>\n",
              "  </tbody>\n",
              "</table>\n",
              "</div>\n",
              "      <button class=\"colab-df-convert\" onclick=\"convertToInteractive('df-150bb948-ae29-49c3-a20f-d09b0af56f6a')\"\n",
              "              title=\"Convert this dataframe to an interactive table.\"\n",
              "              style=\"display:none;\">\n",
              "        \n",
              "  <svg xmlns=\"http://www.w3.org/2000/svg\" height=\"24px\"viewBox=\"0 0 24 24\"\n",
              "       width=\"24px\">\n",
              "    <path d=\"M0 0h24v24H0V0z\" fill=\"none\"/>\n",
              "    <path d=\"M18.56 5.44l.94 2.06.94-2.06 2.06-.94-2.06-.94-.94-2.06-.94 2.06-2.06.94zm-11 1L8.5 8.5l.94-2.06 2.06-.94-2.06-.94L8.5 2.5l-.94 2.06-2.06.94zm10 10l.94 2.06.94-2.06 2.06-.94-2.06-.94-.94-2.06-.94 2.06-2.06.94z\"/><path d=\"M17.41 7.96l-1.37-1.37c-.4-.4-.92-.59-1.43-.59-.52 0-1.04.2-1.43.59L10.3 9.45l-7.72 7.72c-.78.78-.78 2.05 0 2.83L4 21.41c.39.39.9.59 1.41.59.51 0 1.02-.2 1.41-.59l7.78-7.78 2.81-2.81c.8-.78.8-2.07 0-2.86zM5.41 20L4 18.59l7.72-7.72 1.47 1.35L5.41 20z\"/>\n",
              "  </svg>\n",
              "      </button>\n",
              "      \n",
              "  <style>\n",
              "    .colab-df-container {\n",
              "      display:flex;\n",
              "      flex-wrap:wrap;\n",
              "      gap: 12px;\n",
              "    }\n",
              "\n",
              "    .colab-df-convert {\n",
              "      background-color: #E8F0FE;\n",
              "      border: none;\n",
              "      border-radius: 50%;\n",
              "      cursor: pointer;\n",
              "      display: none;\n",
              "      fill: #1967D2;\n",
              "      height: 32px;\n",
              "      padding: 0 0 0 0;\n",
              "      width: 32px;\n",
              "    }\n",
              "\n",
              "    .colab-df-convert:hover {\n",
              "      background-color: #E2EBFA;\n",
              "      box-shadow: 0px 1px 2px rgba(60, 64, 67, 0.3), 0px 1px 3px 1px rgba(60, 64, 67, 0.15);\n",
              "      fill: #174EA6;\n",
              "    }\n",
              "\n",
              "    [theme=dark] .colab-df-convert {\n",
              "      background-color: #3B4455;\n",
              "      fill: #D2E3FC;\n",
              "    }\n",
              "\n",
              "    [theme=dark] .colab-df-convert:hover {\n",
              "      background-color: #434B5C;\n",
              "      box-shadow: 0px 1px 3px 1px rgba(0, 0, 0, 0.15);\n",
              "      filter: drop-shadow(0px 1px 2px rgba(0, 0, 0, 0.3));\n",
              "      fill: #FFFFFF;\n",
              "    }\n",
              "  </style>\n",
              "\n",
              "      <script>\n",
              "        const buttonEl =\n",
              "          document.querySelector('#df-150bb948-ae29-49c3-a20f-d09b0af56f6a button.colab-df-convert');\n",
              "        buttonEl.style.display =\n",
              "          google.colab.kernel.accessAllowed ? 'block' : 'none';\n",
              "\n",
              "        async function convertToInteractive(key) {\n",
              "          const element = document.querySelector('#df-150bb948-ae29-49c3-a20f-d09b0af56f6a');\n",
              "          const dataTable =\n",
              "            await google.colab.kernel.invokeFunction('convertToInteractive',\n",
              "                                                     [key], {});\n",
              "          if (!dataTable) return;\n",
              "\n",
              "          const docLinkHtml = 'Like what you see? Visit the ' +\n",
              "            '<a target=\"_blank\" href=https://colab.research.google.com/notebooks/data_table.ipynb>data table notebook</a>'\n",
              "            + ' to learn more about interactive tables.';\n",
              "          element.innerHTML = '';\n",
              "          dataTable['output_type'] = 'display_data';\n",
              "          await google.colab.output.renderOutput(dataTable, element);\n",
              "          const docLink = document.createElement('div');\n",
              "          docLink.innerHTML = docLinkHtml;\n",
              "          element.appendChild(docLink);\n",
              "        }\n",
              "      </script>\n",
              "    </div>\n",
              "  </div>\n",
              "  "
            ]
          },
          "metadata": {},
          "execution_count": 207
        }
      ],
      "source": [
        "df.head()"
      ]
    },
    {
      "cell_type": "code",
      "execution_count": 208,
      "id": "f0b99105",
      "metadata": {
        "id": "f0b99105"
      },
      "outputs": [],
      "source": [
        "df['year'] = df['date'].dt.year\n",
        "df['month'] = df['date'].dt.month\n",
        "df['day'] = df['date'].dt.day"
      ]
    },
    {
      "cell_type": "code",
      "execution_count": 209,
      "id": "0a1458ef",
      "metadata": {
        "colab": {
          "base_uri": "https://localhost:8080/",
          "height": 206
        },
        "id": "0a1458ef",
        "outputId": "aa7f7633-0e5f-40c7-de22-0487f28a4e6a"
      },
      "outputs": [
        {
          "output_type": "execute_result",
          "data": {
            "text/plain": [
              "                           title  \\\n",
              "0  \"no boarding drinks provided\"   \n",
              "1             \"WiFi didn't work\"   \n",
              "2           \"stick with economy\"   \n",
              "3    \"Communication is terrible\"   \n",
              "4     \"delays and cancellations\"   \n",
              "\n",
              "                                             reviews       date  \\\n",
              "0  ✅ Trip Verified |  First time flying with BA b... 2023-06-25   \n",
              "1  Not Verified | You can buy sandwiches and cris... 2023-06-24   \n",
              "2  ✅ Trip Verified |  This is a two-for-one revie... 2023-06-24   \n",
              "3  ✅ Trip Verified | Absolutely horrible airline.... 2023-06-23   \n",
              "4  ✅ Trip Verified |  Having experienced delays a... 2023-06-22   \n",
              "\n",
              "            place  year  month  day  \n",
              "0  United Kingdom  2023      6   25  \n",
              "1  United Kingdom  2023      6   24  \n",
              "2  United Kingdom  2023      6   24  \n",
              "3   United States  2023      6   23  \n",
              "4   United States  2023      6   22  "
            ],
            "text/html": [
              "\n",
              "  <div id=\"df-0f17706b-d8a4-4fb3-980b-8320f7303d52\">\n",
              "    <div class=\"colab-df-container\">\n",
              "      <div>\n",
              "<style scoped>\n",
              "    .dataframe tbody tr th:only-of-type {\n",
              "        vertical-align: middle;\n",
              "    }\n",
              "\n",
              "    .dataframe tbody tr th {\n",
              "        vertical-align: top;\n",
              "    }\n",
              "\n",
              "    .dataframe thead th {\n",
              "        text-align: right;\n",
              "    }\n",
              "</style>\n",
              "<table border=\"1\" class=\"dataframe\">\n",
              "  <thead>\n",
              "    <tr style=\"text-align: right;\">\n",
              "      <th></th>\n",
              "      <th>title</th>\n",
              "      <th>reviews</th>\n",
              "      <th>date</th>\n",
              "      <th>place</th>\n",
              "      <th>year</th>\n",
              "      <th>month</th>\n",
              "      <th>day</th>\n",
              "    </tr>\n",
              "  </thead>\n",
              "  <tbody>\n",
              "    <tr>\n",
              "      <th>0</th>\n",
              "      <td>\"no boarding drinks provided\"</td>\n",
              "      <td>✅ Trip Verified |  First time flying with BA b...</td>\n",
              "      <td>2023-06-25</td>\n",
              "      <td>United Kingdom</td>\n",
              "      <td>2023</td>\n",
              "      <td>6</td>\n",
              "      <td>25</td>\n",
              "    </tr>\n",
              "    <tr>\n",
              "      <th>1</th>\n",
              "      <td>\"WiFi didn't work\"</td>\n",
              "      <td>Not Verified | You can buy sandwiches and cris...</td>\n",
              "      <td>2023-06-24</td>\n",
              "      <td>United Kingdom</td>\n",
              "      <td>2023</td>\n",
              "      <td>6</td>\n",
              "      <td>24</td>\n",
              "    </tr>\n",
              "    <tr>\n",
              "      <th>2</th>\n",
              "      <td>\"stick with economy\"</td>\n",
              "      <td>✅ Trip Verified |  This is a two-for-one revie...</td>\n",
              "      <td>2023-06-24</td>\n",
              "      <td>United Kingdom</td>\n",
              "      <td>2023</td>\n",
              "      <td>6</td>\n",
              "      <td>24</td>\n",
              "    </tr>\n",
              "    <tr>\n",
              "      <th>3</th>\n",
              "      <td>\"Communication is terrible\"</td>\n",
              "      <td>✅ Trip Verified | Absolutely horrible airline....</td>\n",
              "      <td>2023-06-23</td>\n",
              "      <td>United States</td>\n",
              "      <td>2023</td>\n",
              "      <td>6</td>\n",
              "      <td>23</td>\n",
              "    </tr>\n",
              "    <tr>\n",
              "      <th>4</th>\n",
              "      <td>\"delays and cancellations\"</td>\n",
              "      <td>✅ Trip Verified |  Having experienced delays a...</td>\n",
              "      <td>2023-06-22</td>\n",
              "      <td>United States</td>\n",
              "      <td>2023</td>\n",
              "      <td>6</td>\n",
              "      <td>22</td>\n",
              "    </tr>\n",
              "  </tbody>\n",
              "</table>\n",
              "</div>\n",
              "      <button class=\"colab-df-convert\" onclick=\"convertToInteractive('df-0f17706b-d8a4-4fb3-980b-8320f7303d52')\"\n",
              "              title=\"Convert this dataframe to an interactive table.\"\n",
              "              style=\"display:none;\">\n",
              "        \n",
              "  <svg xmlns=\"http://www.w3.org/2000/svg\" height=\"24px\"viewBox=\"0 0 24 24\"\n",
              "       width=\"24px\">\n",
              "    <path d=\"M0 0h24v24H0V0z\" fill=\"none\"/>\n",
              "    <path d=\"M18.56 5.44l.94 2.06.94-2.06 2.06-.94-2.06-.94-.94-2.06-.94 2.06-2.06.94zm-11 1L8.5 8.5l.94-2.06 2.06-.94-2.06-.94L8.5 2.5l-.94 2.06-2.06.94zm10 10l.94 2.06.94-2.06 2.06-.94-2.06-.94-.94-2.06-.94 2.06-2.06.94z\"/><path d=\"M17.41 7.96l-1.37-1.37c-.4-.4-.92-.59-1.43-.59-.52 0-1.04.2-1.43.59L10.3 9.45l-7.72 7.72c-.78.78-.78 2.05 0 2.83L4 21.41c.39.39.9.59 1.41.59.51 0 1.02-.2 1.41-.59l7.78-7.78 2.81-2.81c.8-.78.8-2.07 0-2.86zM5.41 20L4 18.59l7.72-7.72 1.47 1.35L5.41 20z\"/>\n",
              "  </svg>\n",
              "      </button>\n",
              "      \n",
              "  <style>\n",
              "    .colab-df-container {\n",
              "      display:flex;\n",
              "      flex-wrap:wrap;\n",
              "      gap: 12px;\n",
              "    }\n",
              "\n",
              "    .colab-df-convert {\n",
              "      background-color: #E8F0FE;\n",
              "      border: none;\n",
              "      border-radius: 50%;\n",
              "      cursor: pointer;\n",
              "      display: none;\n",
              "      fill: #1967D2;\n",
              "      height: 32px;\n",
              "      padding: 0 0 0 0;\n",
              "      width: 32px;\n",
              "    }\n",
              "\n",
              "    .colab-df-convert:hover {\n",
              "      background-color: #E2EBFA;\n",
              "      box-shadow: 0px 1px 2px rgba(60, 64, 67, 0.3), 0px 1px 3px 1px rgba(60, 64, 67, 0.15);\n",
              "      fill: #174EA6;\n",
              "    }\n",
              "\n",
              "    [theme=dark] .colab-df-convert {\n",
              "      background-color: #3B4455;\n",
              "      fill: #D2E3FC;\n",
              "    }\n",
              "\n",
              "    [theme=dark] .colab-df-convert:hover {\n",
              "      background-color: #434B5C;\n",
              "      box-shadow: 0px 1px 3px 1px rgba(0, 0, 0, 0.15);\n",
              "      filter: drop-shadow(0px 1px 2px rgba(0, 0, 0, 0.3));\n",
              "      fill: #FFFFFF;\n",
              "    }\n",
              "  </style>\n",
              "\n",
              "      <script>\n",
              "        const buttonEl =\n",
              "          document.querySelector('#df-0f17706b-d8a4-4fb3-980b-8320f7303d52 button.colab-df-convert');\n",
              "        buttonEl.style.display =\n",
              "          google.colab.kernel.accessAllowed ? 'block' : 'none';\n",
              "\n",
              "        async function convertToInteractive(key) {\n",
              "          const element = document.querySelector('#df-0f17706b-d8a4-4fb3-980b-8320f7303d52');\n",
              "          const dataTable =\n",
              "            await google.colab.kernel.invokeFunction('convertToInteractive',\n",
              "                                                     [key], {});\n",
              "          if (!dataTable) return;\n",
              "\n",
              "          const docLinkHtml = 'Like what you see? Visit the ' +\n",
              "            '<a target=\"_blank\" href=https://colab.research.google.com/notebooks/data_table.ipynb>data table notebook</a>'\n",
              "            + ' to learn more about interactive tables.';\n",
              "          element.innerHTML = '';\n",
              "          dataTable['output_type'] = 'display_data';\n",
              "          await google.colab.output.renderOutput(dataTable, element);\n",
              "          const docLink = document.createElement('div');\n",
              "          docLink.innerHTML = docLinkHtml;\n",
              "          element.appendChild(docLink);\n",
              "        }\n",
              "      </script>\n",
              "    </div>\n",
              "  </div>\n",
              "  "
            ]
          },
          "metadata": {},
          "execution_count": 209
        }
      ],
      "source": [
        "df.head()"
      ]
    },
    {
      "cell_type": "code",
      "execution_count": 210,
      "id": "fcbdc7b2",
      "metadata": {
        "id": "fcbdc7b2"
      },
      "outputs": [],
      "source": [
        "df.drop_duplicates('reviews',inplace=True)"
      ]
    },
    {
      "cell_type": "code",
      "execution_count": 211,
      "id": "0a09db3d",
      "metadata": {
        "colab": {
          "base_uri": "https://localhost:8080/"
        },
        "id": "0a09db3d",
        "outputId": "82e56cf1-99af-421f-ca0b-38eadcd49e03"
      },
      "outputs": [
        {
          "output_type": "execute_result",
          "data": {
            "text/plain": [
              "year  reviews                                                                                                                                                                                                                                                                                                                                                                                                                                                                                                                                                                                                                                                                                                                                                                                                                                                                                                                                                                                                                                                                                                                                                                                                                                                                                                                                                                                                                                                                                                                                                                                                                                                                                                                       \n",
              "2015  10 April 2015 Airbus A320 Business Heathrow to Rome FCO. A total waste of money. The food was \"tea\" there was no entertainment system and the only difference I could find from premium coach or regular coach was that the middle seat was empty and a portable table was placed between the arm rests. As alcoholic beverages are provided for all classes there's nothing to be gained there the seat pitch was pathetic and aside from having the middle seat empty the only benefit to be had was boarding and de-planing first. Don't waste your money unless someone else is paying for it.                                                                                                                                                                                                                                                                                                                                                                                                                                                                                                                                                                                                                                                                                                                                                                                                                                                                                                                                                                                                                                                                                                                                1\n",
              "      10/6/15, LHR-GLA, A321, Seat 9A.  Was able to choose this seat in advance which has plenty of legroom as no seat in front.  Flight was pretty full.  Cabin crew were all extremely friendly and helpful welcoming every passenger individually.  Flight was delayed by difficulty in storing the silly amount of carry on baggage people brought on board.  Some stuff was obviously way bigger than the allowed size.  It took ages to get it all sorted which was ridiculous, however the crew kept smiling though it all.  Again new configuration seating which I found pretty comfortable.  Drink and snack was served as usual.  Landed nearly 30 mins late to discover my baggage had not made it from GRR which was quite annoying.  Overall good flight though.                                                                                                                                                                                                                                                                                                                                                                                                                                                                                                                                                                                                                                                                                                                                                                                                                                                                                                                                                          1\n",
              "      15th Aug 2014 flight BA0272. Me and my 3 friends flew from SAN to LHR then to IST. Our check in and baggage processes took almost 2 hours to be completed. I wonder what would happen if we were not been there 5 hours before our flight. When they gave us our tickets we saw that they put us all separately. They could not even manage to sit us together. When I was thinking how could this get worse we missed our LHR-IST flight and waited in a queue for 3 hours to go to our hotel. While a clerk was trying to complete our check-in for 2 hours another clerk next to her managed to complete half of the passengers processes and when we were boarding the plane we learnt that the plane was overbooked and the other cl erk was offering 800 dollars per person and free accommodation for volunteer passengers to fly on the next plane.                                                                                                                                                                                                                                                                                                                                                                                                                                                                                                                                                                                                                                                                                                                                                                                                                                                                       1\n",
              "      17 April 2015 Airbus A320 Business Heathrow to Lisbon. A total waste of money. The food was horrible. A couple of sandwiches and a lousy bread served with jam. There was no entertainment system and the only difference I could find from economy was that the middle seat was empty and a portable table was placed between the arm rests. The seat pitch was pathetic and could not even get a rest. I am very disappointed that I did not choose TAP instead of British.                                                                                                                                                                                                                                                                                                                                                                                                                                                                                                                                                                                                                                                                                                                                                                                                                                                                                                                                                                                                                                                                                                                                                                                                                                                     1\n",
              "      19 April KWI-LHR BA157. LHR-EDI BA1454. 3 May EDI-LHR BA1459. LHR-KWI BA156. KWI-LHR-EDI-LHR-KWI: booked World Traveller Plus (Premium Economy) but upgraded to Club World (Business Class) on the outward trip. An excellent experience: as always the cabin crew make the difference. On all sectors professional well-turned-out staff who were genuinely friendly cheerful and helpful. Food was excellent (chicken or pasta seem to be a thing of the past - I was not offered either) nicely presented and for me in sufficient quantity. Water/orange juice runs on a regular basis washrooms clean and tidy and well-stocked A wide range of entertainment on the KWI-LHR sector (it kept me entertained for a 6-hour flight and because I flew out in April and back in May the selection had changed on the return flight). Smooth flights (the 747's on the KWI-LHR sector although old were well- maintained and everything worked - I really enjoy flying the \"Queen of the Skies\") and plenty of information from the flight deck. Slight delay outbound at Kuwait because of a technical problem but it was resolved: all other sectors were on time. I travelled on a Sunday in both directions so no delays in connections at Heathrow although I had built in sufficient time between flights to allow for delays when I booked my ticket. All in all four excellent flights - BA seem to have improved immensely since I last flew with them in 2014: the cabin crew and check-in staff seem to make the difference and for this reason I use BA in preference to the carriers from the Middle East especially as Terminal 5 at Heathrow is a very civilised place to transfer (at least in my experience).    1\n",
              "                                                                                                                                                                                                                                                                                                                                                                                                                                                                                                                                                                                                                                                                                                                                                                                                                                                                                                                                                                                                                                                                                                                                                                                                                                                                                                                                                                                                                                                                                                                                                                                                                                                                                                                                       ..\n",
              "2023  ✅ Trip Verified | This was my first time flying with BA & I was pleasantly surprised. Islamabad via Doha was very comfortable and the crew were great, friendly and helpful. The second flight was operated by Qatar Airways this was from Doha to Islamabad. My return journey was a direct BA flight, 46kg luggage allowance was really generous and stopped the hassle with connecting flights. Crew on this flight were really nice too. What let BA down was the food, it really was not nice, the IFE could do with some more content but that's not really a huge issue.                                                                                                                                                                                                                                                                                                                                                                                                                                                                                                                                                                                                                                                                                                                                                                                                                                                                                                                                                                                                                                                                                                                                                   1\n",
              "      ✅ Trip Verified | Travelled to Heathrow to Kalamata and return journey 11 days later. World Traveller (aka Economy) Class. Both flights departed on time. Return flight landed early - BUT - we then had a 1 1/4 hour wait for the baggage to be offloaded which rather ruined the journey home as we then caught a motorway closure. Flights OK - FA's (particularly on return flight) pleasant enough. But, as usual, Economy class seating was truly dreadful - no legroom at all. No better in Club class either - only the middle seat left free. Marked down because of this. Can only recommend if you are not tall.                                                                                                                                                                                                                                                                                                                                                                                                                                                                                                                                                                                                                                                                                                                                                                                                                                                                                                                                                                                                                                                                                                       1\n",
              "      ✅ Trip Verified | Why do you make it so hard? After a so so lounge experience, the staff taking care of boarding treated us with disdain bordering contempt. It can’t be training, who would do that, it has to be no fear of anything happening. The “new” club world suites are a huge step up from the old product and really on deliver comfort and privacy. The crew were professional but I personally found the food menu rather odd. Essentially, there was one only main that I could handle and was then told they had ran out. I was a few rows in.                                                                                                                                                                                                                                                                                                                                                                                                                                                                                                                                                                                                                                                                                                                                                                                                                                                                                                                                                                                                                                                                                                                                                                    1\n",
              "      ✅ Trip Verified | Worst seats I have ever encountered in economy class. No leg room at all. I had to spread my legs to fit. Staff at the terminal rude. “Business class” offers the same seat, but with more legroom and they block the middle seat. They cram people in seats with no legroom and block off the same seat type at the front of the plane (where there is more legroom) just so the “business class” passenger has an empty seat between them. Plane is old with no onboard entertainment for a 3 hours flight. Last time I will fly British Airways.                                                                                                                                                                                                                                                                                                                                                                                                                                                                                                                                                                                                                                                                                                                                                                                                                                                                                                                                                                                                                                                                                                                                                             1\n",
              "      ✅ Trip Verified |. The BA first lounge at Terminal 5 was a  zoo at 2pm, dirty tables and used tableware everywhere. Worse than this, the usual atrocious boarding gate service, and boarding started 50 mins late. The flight was operated by a Finnair A320, which is barely low cost standard let alone business class. Hard, thin, uncomfortable seats, poor legroom and the cabin was simply tatty - I remain shocked that BA allow this, and it's time for BA's CEO and management focused on standards rather than bean counting. Finnair cabin staff were fundamentally courteous, but they provide a very trimmed down, budget airline type service, as the whole trip turned out to be - and yet this business class ticket was one of the more expensive on recent trips. I thought post Covid that BA were better for a few months, but with the many cost cuts they are making, they fall well below all other European full service Airlines.                                                                                                                                                                                                                                                                                                                                                                                                                                                                                                                                                                                                                                                                                                                                                                        1\n",
              "Name: reviews, Length: 2923, dtype: int64"
            ]
          },
          "metadata": {},
          "execution_count": 211
        }
      ],
      "source": [
        "df.groupby('year').reviews.value_counts(ascending=False)"
      ]
    },
    {
      "cell_type": "code",
      "execution_count": 212,
      "id": "0e340003",
      "metadata": {
        "id": "0e340003"
      },
      "outputs": [],
      "source": [
        "#plt.plot(df['year'].value_counts().sort_index(ascending=False))"
      ]
    },
    {
      "cell_type": "code",
      "execution_count": 213,
      "id": "f691bc1d",
      "metadata": {
        "id": "f691bc1d"
      },
      "outputs": [],
      "source": [
        "#plt.plot(df['month'].value_counts().sort_index(ascending=False))"
      ]
    },
    {
      "cell_type": "code",
      "execution_count": 214,
      "id": "e07b1f6d",
      "metadata": {
        "id": "e07b1f6d"
      },
      "outputs": [],
      "source": [
        "#plt.plot(df['day'].value_counts().sort_index(ascending=False))"
      ]
    },
    {
      "cell_type": "code",
      "execution_count": 215,
      "id": "274399ac",
      "metadata": {
        "id": "274399ac"
      },
      "outputs": [],
      "source": [
        "#plt.figure(figsize=(20,6))\n",
        "#plt.xticks(rotation=90)\n",
        "#sns.countplot(df['place'].sort_index(ascending=False));"
      ]
    },
    {
      "cell_type": "code",
      "execution_count": 216,
      "id": "b7a3a9de",
      "metadata": {
        "id": "b7a3a9de"
      },
      "outputs": [],
      "source": [
        "def preprocessing(text):\n",
        "    text = text.lower()\n",
        "\n",
        "    text = re.sub(r'[^\\w\\s]','',text)\n",
        "\n",
        "    text = nltk.word_tokenize(text)\n",
        "\n",
        "    text = [word for word in text if not word in stopwords.words('english')]\n",
        "\n",
        "    text = [PorterStemmer().stem(w) for w in text]\n",
        "\n",
        "    text = [WordNetLemmatizer().lemmatize(w) for w in text]\n",
        "\n",
        "    text = ' '.join(text)\n",
        "    return text"
      ]
    },
    {
      "cell_type": "code",
      "execution_count": 217,
      "id": "c434ef5f",
      "metadata": {
        "id": "c434ef5f"
      },
      "outputs": [],
      "source": [
        "from nltk.sentiment.vader import SentimentIntensityAnalyzer"
      ]
    },
    {
      "cell_type": "code",
      "source": [
        "nltk.download('vader_lexicon')\n",
        "nltk.download('punkt')\n",
        "nltk.download('stopwords')\n",
        "nltk.download('wordnet')"
      ],
      "metadata": {
        "colab": {
          "base_uri": "https://localhost:8080/"
        },
        "id": "8J-AJTYbo2jW",
        "outputId": "675e4a76-fa38-4f46-831b-548fe3755038"
      },
      "id": "8J-AJTYbo2jW",
      "execution_count": 218,
      "outputs": [
        {
          "output_type": "stream",
          "name": "stderr",
          "text": [
            "[nltk_data] Downloading package vader_lexicon to /root/nltk_data...\n",
            "[nltk_data]   Package vader_lexicon is already up-to-date!\n",
            "[nltk_data] Downloading package punkt to /root/nltk_data...\n",
            "[nltk_data]   Package punkt is already up-to-date!\n",
            "[nltk_data] Downloading package stopwords to /root/nltk_data...\n",
            "[nltk_data]   Package stopwords is already up-to-date!\n",
            "[nltk_data] Downloading package wordnet to /root/nltk_data...\n",
            "[nltk_data]   Package wordnet is already up-to-date!\n"
          ]
        },
        {
          "output_type": "execute_result",
          "data": {
            "text/plain": [
              "True"
            ]
          },
          "metadata": {},
          "execution_count": 218
        }
      ]
    },
    {
      "cell_type": "code",
      "source": [],
      "metadata": {
        "id": "JNZpaQqWo2uX"
      },
      "id": "JNZpaQqWo2uX",
      "execution_count": 218,
      "outputs": []
    },
    {
      "cell_type": "code",
      "source": [],
      "metadata": {
        "id": "TLF-DB4Qo2w8"
      },
      "id": "TLF-DB4Qo2w8",
      "execution_count": 218,
      "outputs": []
    },
    {
      "cell_type": "code",
      "source": [],
      "metadata": {
        "id": "VpPSUpBgo20K"
      },
      "id": "VpPSUpBgo20K",
      "execution_count": 218,
      "outputs": []
    },
    {
      "cell_type": "code",
      "execution_count": 219,
      "id": "9b39c9db",
      "metadata": {
        "id": "9b39c9db"
      },
      "outputs": [],
      "source": [
        "analyzer = SentimentIntensityAnalyzer()"
      ]
    },
    {
      "cell_type": "code",
      "execution_count": 220,
      "id": "f1ec4aff",
      "metadata": {
        "id": "f1ec4aff"
      },
      "outputs": [],
      "source": [
        "def score(score):\n",
        "    if score>0.00:\n",
        "        return 'positive'\n",
        "    elif score < 0.0:\n",
        "        return 'negative'\n",
        "    else:\n",
        "        return 'neutral'"
      ]
    },
    {
      "cell_type": "code",
      "execution_count": 221,
      "id": "d5c122c6",
      "metadata": {
        "id": "d5c122c6"
      },
      "outputs": [],
      "source": [
        "import copy"
      ]
    },
    {
      "cell_type": "code",
      "execution_count": 222,
      "id": "6df54e8d",
      "metadata": {
        "id": "6df54e8d"
      },
      "outputs": [],
      "source": [
        "d = copy.deepcopy(df)"
      ]
    },
    {
      "cell_type": "code",
      "execution_count": 223,
      "id": "bbd5b264",
      "metadata": {
        "colab": {
          "base_uri": "https://localhost:8080/",
          "height": 206
        },
        "id": "bbd5b264",
        "outputId": "41d92713-6424-4a4e-ff22-186e0ab8875e"
      },
      "outputs": [
        {
          "output_type": "execute_result",
          "data": {
            "text/plain": [
              "                           title  \\\n",
              "0  \"no boarding drinks provided\"   \n",
              "1             \"WiFi didn't work\"   \n",
              "2           \"stick with economy\"   \n",
              "3    \"Communication is terrible\"   \n",
              "4     \"delays and cancellations\"   \n",
              "\n",
              "                                             reviews       date  \\\n",
              "0  ✅ Trip Verified |  First time flying with BA b... 2023-06-25   \n",
              "1  Not Verified | You can buy sandwiches and cris... 2023-06-24   \n",
              "2  ✅ Trip Verified |  This is a two-for-one revie... 2023-06-24   \n",
              "3  ✅ Trip Verified | Absolutely horrible airline.... 2023-06-23   \n",
              "4  ✅ Trip Verified |  Having experienced delays a... 2023-06-22   \n",
              "\n",
              "            place  year  month  day  \n",
              "0  United Kingdom  2023      6   25  \n",
              "1  United Kingdom  2023      6   24  \n",
              "2  United Kingdom  2023      6   24  \n",
              "3   United States  2023      6   23  \n",
              "4   United States  2023      6   22  "
            ],
            "text/html": [
              "\n",
              "  <div id=\"df-4e3d52c0-f982-4cca-895b-f73ac7868f78\">\n",
              "    <div class=\"colab-df-container\">\n",
              "      <div>\n",
              "<style scoped>\n",
              "    .dataframe tbody tr th:only-of-type {\n",
              "        vertical-align: middle;\n",
              "    }\n",
              "\n",
              "    .dataframe tbody tr th {\n",
              "        vertical-align: top;\n",
              "    }\n",
              "\n",
              "    .dataframe thead th {\n",
              "        text-align: right;\n",
              "    }\n",
              "</style>\n",
              "<table border=\"1\" class=\"dataframe\">\n",
              "  <thead>\n",
              "    <tr style=\"text-align: right;\">\n",
              "      <th></th>\n",
              "      <th>title</th>\n",
              "      <th>reviews</th>\n",
              "      <th>date</th>\n",
              "      <th>place</th>\n",
              "      <th>year</th>\n",
              "      <th>month</th>\n",
              "      <th>day</th>\n",
              "    </tr>\n",
              "  </thead>\n",
              "  <tbody>\n",
              "    <tr>\n",
              "      <th>0</th>\n",
              "      <td>\"no boarding drinks provided\"</td>\n",
              "      <td>✅ Trip Verified |  First time flying with BA b...</td>\n",
              "      <td>2023-06-25</td>\n",
              "      <td>United Kingdom</td>\n",
              "      <td>2023</td>\n",
              "      <td>6</td>\n",
              "      <td>25</td>\n",
              "    </tr>\n",
              "    <tr>\n",
              "      <th>1</th>\n",
              "      <td>\"WiFi didn't work\"</td>\n",
              "      <td>Not Verified | You can buy sandwiches and cris...</td>\n",
              "      <td>2023-06-24</td>\n",
              "      <td>United Kingdom</td>\n",
              "      <td>2023</td>\n",
              "      <td>6</td>\n",
              "      <td>24</td>\n",
              "    </tr>\n",
              "    <tr>\n",
              "      <th>2</th>\n",
              "      <td>\"stick with economy\"</td>\n",
              "      <td>✅ Trip Verified |  This is a two-for-one revie...</td>\n",
              "      <td>2023-06-24</td>\n",
              "      <td>United Kingdom</td>\n",
              "      <td>2023</td>\n",
              "      <td>6</td>\n",
              "      <td>24</td>\n",
              "    </tr>\n",
              "    <tr>\n",
              "      <th>3</th>\n",
              "      <td>\"Communication is terrible\"</td>\n",
              "      <td>✅ Trip Verified | Absolutely horrible airline....</td>\n",
              "      <td>2023-06-23</td>\n",
              "      <td>United States</td>\n",
              "      <td>2023</td>\n",
              "      <td>6</td>\n",
              "      <td>23</td>\n",
              "    </tr>\n",
              "    <tr>\n",
              "      <th>4</th>\n",
              "      <td>\"delays and cancellations\"</td>\n",
              "      <td>✅ Trip Verified |  Having experienced delays a...</td>\n",
              "      <td>2023-06-22</td>\n",
              "      <td>United States</td>\n",
              "      <td>2023</td>\n",
              "      <td>6</td>\n",
              "      <td>22</td>\n",
              "    </tr>\n",
              "  </tbody>\n",
              "</table>\n",
              "</div>\n",
              "      <button class=\"colab-df-convert\" onclick=\"convertToInteractive('df-4e3d52c0-f982-4cca-895b-f73ac7868f78')\"\n",
              "              title=\"Convert this dataframe to an interactive table.\"\n",
              "              style=\"display:none;\">\n",
              "        \n",
              "  <svg xmlns=\"http://www.w3.org/2000/svg\" height=\"24px\"viewBox=\"0 0 24 24\"\n",
              "       width=\"24px\">\n",
              "    <path d=\"M0 0h24v24H0V0z\" fill=\"none\"/>\n",
              "    <path d=\"M18.56 5.44l.94 2.06.94-2.06 2.06-.94-2.06-.94-.94-2.06-.94 2.06-2.06.94zm-11 1L8.5 8.5l.94-2.06 2.06-.94-2.06-.94L8.5 2.5l-.94 2.06-2.06.94zm10 10l.94 2.06.94-2.06 2.06-.94-2.06-.94-.94-2.06-.94 2.06-2.06.94z\"/><path d=\"M17.41 7.96l-1.37-1.37c-.4-.4-.92-.59-1.43-.59-.52 0-1.04.2-1.43.59L10.3 9.45l-7.72 7.72c-.78.78-.78 2.05 0 2.83L4 21.41c.39.39.9.59 1.41.59.51 0 1.02-.2 1.41-.59l7.78-7.78 2.81-2.81c.8-.78.8-2.07 0-2.86zM5.41 20L4 18.59l7.72-7.72 1.47 1.35L5.41 20z\"/>\n",
              "  </svg>\n",
              "      </button>\n",
              "      \n",
              "  <style>\n",
              "    .colab-df-container {\n",
              "      display:flex;\n",
              "      flex-wrap:wrap;\n",
              "      gap: 12px;\n",
              "    }\n",
              "\n",
              "    .colab-df-convert {\n",
              "      background-color: #E8F0FE;\n",
              "      border: none;\n",
              "      border-radius: 50%;\n",
              "      cursor: pointer;\n",
              "      display: none;\n",
              "      fill: #1967D2;\n",
              "      height: 32px;\n",
              "      padding: 0 0 0 0;\n",
              "      width: 32px;\n",
              "    }\n",
              "\n",
              "    .colab-df-convert:hover {\n",
              "      background-color: #E2EBFA;\n",
              "      box-shadow: 0px 1px 2px rgba(60, 64, 67, 0.3), 0px 1px 3px 1px rgba(60, 64, 67, 0.15);\n",
              "      fill: #174EA6;\n",
              "    }\n",
              "\n",
              "    [theme=dark] .colab-df-convert {\n",
              "      background-color: #3B4455;\n",
              "      fill: #D2E3FC;\n",
              "    }\n",
              "\n",
              "    [theme=dark] .colab-df-convert:hover {\n",
              "      background-color: #434B5C;\n",
              "      box-shadow: 0px 1px 3px 1px rgba(0, 0, 0, 0.15);\n",
              "      filter: drop-shadow(0px 1px 2px rgba(0, 0, 0, 0.3));\n",
              "      fill: #FFFFFF;\n",
              "    }\n",
              "  </style>\n",
              "\n",
              "      <script>\n",
              "        const buttonEl =\n",
              "          document.querySelector('#df-4e3d52c0-f982-4cca-895b-f73ac7868f78 button.colab-df-convert');\n",
              "        buttonEl.style.display =\n",
              "          google.colab.kernel.accessAllowed ? 'block' : 'none';\n",
              "\n",
              "        async function convertToInteractive(key) {\n",
              "          const element = document.querySelector('#df-4e3d52c0-f982-4cca-895b-f73ac7868f78');\n",
              "          const dataTable =\n",
              "            await google.colab.kernel.invokeFunction('convertToInteractive',\n",
              "                                                     [key], {});\n",
              "          if (!dataTable) return;\n",
              "\n",
              "          const docLinkHtml = 'Like what you see? Visit the ' +\n",
              "            '<a target=\"_blank\" href=https://colab.research.google.com/notebooks/data_table.ipynb>data table notebook</a>'\n",
              "            + ' to learn more about interactive tables.';\n",
              "          element.innerHTML = '';\n",
              "          dataTable['output_type'] = 'display_data';\n",
              "          await google.colab.output.renderOutput(dataTable, element);\n",
              "          const docLink = document.createElement('div');\n",
              "          docLink.innerHTML = docLinkHtml;\n",
              "          element.appendChild(docLink);\n",
              "        }\n",
              "      </script>\n",
              "    </div>\n",
              "  </div>\n",
              "  "
            ]
          },
          "metadata": {},
          "execution_count": 223
        }
      ],
      "source": [
        "d.head()"
      ]
    },
    {
      "cell_type": "code",
      "execution_count": 224,
      "id": "2ede41f3",
      "metadata": {
        "id": "2ede41f3"
      },
      "outputs": [],
      "source": [
        "d['title'] = d['title'].apply(preprocessing)"
      ]
    },
    {
      "cell_type": "code",
      "source": [
        "nltk.download('punkt')\n",
        "nltk.download('stopwords')\n",
        "nltk.download('wordnet')"
      ],
      "metadata": {
        "colab": {
          "base_uri": "https://localhost:8080/"
        },
        "id": "g5aM039ZpEPZ",
        "outputId": "a4aaf96a-814d-4e65-adf9-9f8259bad820"
      },
      "id": "g5aM039ZpEPZ",
      "execution_count": 225,
      "outputs": [
        {
          "output_type": "stream",
          "name": "stderr",
          "text": [
            "[nltk_data] Downloading package punkt to /root/nltk_data...\n",
            "[nltk_data]   Package punkt is already up-to-date!\n",
            "[nltk_data] Downloading package stopwords to /root/nltk_data...\n",
            "[nltk_data]   Package stopwords is already up-to-date!\n",
            "[nltk_data] Downloading package wordnet to /root/nltk_data...\n",
            "[nltk_data]   Package wordnet is already up-to-date!\n"
          ]
        },
        {
          "output_type": "execute_result",
          "data": {
            "text/plain": [
              "True"
            ]
          },
          "metadata": {},
          "execution_count": 225
        }
      ]
    },
    {
      "cell_type": "code",
      "execution_count": 226,
      "id": "a64bb3b6",
      "metadata": {
        "colab": {
          "base_uri": "https://localhost:8080/",
          "height": 206
        },
        "id": "a64bb3b6",
        "outputId": "4b01e661-88ad-4a5f-9d4b-376954916528"
      },
      "outputs": [
        {
          "output_type": "execute_result",
          "data": {
            "text/plain": [
              "                title                                            reviews  \\\n",
              "0  board drink provid  ✅ Trip Verified |  First time flying with BA b...   \n",
              "1     wifi didnt work  Not Verified | You can buy sandwiches and cris...   \n",
              "2       stick economi  ✅ Trip Verified |  This is a two-for-one revie...   \n",
              "3      commun terribl  ✅ Trip Verified | Absolutely horrible airline....   \n",
              "4        delay cancel  ✅ Trip Verified |  Having experienced delays a...   \n",
              "\n",
              "        date           place  year  month  day  \n",
              "0 2023-06-25  United Kingdom  2023      6   25  \n",
              "1 2023-06-24  United Kingdom  2023      6   24  \n",
              "2 2023-06-24  United Kingdom  2023      6   24  \n",
              "3 2023-06-23   United States  2023      6   23  \n",
              "4 2023-06-22   United States  2023      6   22  "
            ],
            "text/html": [
              "\n",
              "  <div id=\"df-5a5d20af-a559-4f78-8bf5-5d9244a2b98e\">\n",
              "    <div class=\"colab-df-container\">\n",
              "      <div>\n",
              "<style scoped>\n",
              "    .dataframe tbody tr th:only-of-type {\n",
              "        vertical-align: middle;\n",
              "    }\n",
              "\n",
              "    .dataframe tbody tr th {\n",
              "        vertical-align: top;\n",
              "    }\n",
              "\n",
              "    .dataframe thead th {\n",
              "        text-align: right;\n",
              "    }\n",
              "</style>\n",
              "<table border=\"1\" class=\"dataframe\">\n",
              "  <thead>\n",
              "    <tr style=\"text-align: right;\">\n",
              "      <th></th>\n",
              "      <th>title</th>\n",
              "      <th>reviews</th>\n",
              "      <th>date</th>\n",
              "      <th>place</th>\n",
              "      <th>year</th>\n",
              "      <th>month</th>\n",
              "      <th>day</th>\n",
              "    </tr>\n",
              "  </thead>\n",
              "  <tbody>\n",
              "    <tr>\n",
              "      <th>0</th>\n",
              "      <td>board drink provid</td>\n",
              "      <td>✅ Trip Verified |  First time flying with BA b...</td>\n",
              "      <td>2023-06-25</td>\n",
              "      <td>United Kingdom</td>\n",
              "      <td>2023</td>\n",
              "      <td>6</td>\n",
              "      <td>25</td>\n",
              "    </tr>\n",
              "    <tr>\n",
              "      <th>1</th>\n",
              "      <td>wifi didnt work</td>\n",
              "      <td>Not Verified | You can buy sandwiches and cris...</td>\n",
              "      <td>2023-06-24</td>\n",
              "      <td>United Kingdom</td>\n",
              "      <td>2023</td>\n",
              "      <td>6</td>\n",
              "      <td>24</td>\n",
              "    </tr>\n",
              "    <tr>\n",
              "      <th>2</th>\n",
              "      <td>stick economi</td>\n",
              "      <td>✅ Trip Verified |  This is a two-for-one revie...</td>\n",
              "      <td>2023-06-24</td>\n",
              "      <td>United Kingdom</td>\n",
              "      <td>2023</td>\n",
              "      <td>6</td>\n",
              "      <td>24</td>\n",
              "    </tr>\n",
              "    <tr>\n",
              "      <th>3</th>\n",
              "      <td>commun terribl</td>\n",
              "      <td>✅ Trip Verified | Absolutely horrible airline....</td>\n",
              "      <td>2023-06-23</td>\n",
              "      <td>United States</td>\n",
              "      <td>2023</td>\n",
              "      <td>6</td>\n",
              "      <td>23</td>\n",
              "    </tr>\n",
              "    <tr>\n",
              "      <th>4</th>\n",
              "      <td>delay cancel</td>\n",
              "      <td>✅ Trip Verified |  Having experienced delays a...</td>\n",
              "      <td>2023-06-22</td>\n",
              "      <td>United States</td>\n",
              "      <td>2023</td>\n",
              "      <td>6</td>\n",
              "      <td>22</td>\n",
              "    </tr>\n",
              "  </tbody>\n",
              "</table>\n",
              "</div>\n",
              "      <button class=\"colab-df-convert\" onclick=\"convertToInteractive('df-5a5d20af-a559-4f78-8bf5-5d9244a2b98e')\"\n",
              "              title=\"Convert this dataframe to an interactive table.\"\n",
              "              style=\"display:none;\">\n",
              "        \n",
              "  <svg xmlns=\"http://www.w3.org/2000/svg\" height=\"24px\"viewBox=\"0 0 24 24\"\n",
              "       width=\"24px\">\n",
              "    <path d=\"M0 0h24v24H0V0z\" fill=\"none\"/>\n",
              "    <path d=\"M18.56 5.44l.94 2.06.94-2.06 2.06-.94-2.06-.94-.94-2.06-.94 2.06-2.06.94zm-11 1L8.5 8.5l.94-2.06 2.06-.94-2.06-.94L8.5 2.5l-.94 2.06-2.06.94zm10 10l.94 2.06.94-2.06 2.06-.94-2.06-.94-.94-2.06-.94 2.06-2.06.94z\"/><path d=\"M17.41 7.96l-1.37-1.37c-.4-.4-.92-.59-1.43-.59-.52 0-1.04.2-1.43.59L10.3 9.45l-7.72 7.72c-.78.78-.78 2.05 0 2.83L4 21.41c.39.39.9.59 1.41.59.51 0 1.02-.2 1.41-.59l7.78-7.78 2.81-2.81c.8-.78.8-2.07 0-2.86zM5.41 20L4 18.59l7.72-7.72 1.47 1.35L5.41 20z\"/>\n",
              "  </svg>\n",
              "      </button>\n",
              "      \n",
              "  <style>\n",
              "    .colab-df-container {\n",
              "      display:flex;\n",
              "      flex-wrap:wrap;\n",
              "      gap: 12px;\n",
              "    }\n",
              "\n",
              "    .colab-df-convert {\n",
              "      background-color: #E8F0FE;\n",
              "      border: none;\n",
              "      border-radius: 50%;\n",
              "      cursor: pointer;\n",
              "      display: none;\n",
              "      fill: #1967D2;\n",
              "      height: 32px;\n",
              "      padding: 0 0 0 0;\n",
              "      width: 32px;\n",
              "    }\n",
              "\n",
              "    .colab-df-convert:hover {\n",
              "      background-color: #E2EBFA;\n",
              "      box-shadow: 0px 1px 2px rgba(60, 64, 67, 0.3), 0px 1px 3px 1px rgba(60, 64, 67, 0.15);\n",
              "      fill: #174EA6;\n",
              "    }\n",
              "\n",
              "    [theme=dark] .colab-df-convert {\n",
              "      background-color: #3B4455;\n",
              "      fill: #D2E3FC;\n",
              "    }\n",
              "\n",
              "    [theme=dark] .colab-df-convert:hover {\n",
              "      background-color: #434B5C;\n",
              "      box-shadow: 0px 1px 3px 1px rgba(0, 0, 0, 0.15);\n",
              "      filter: drop-shadow(0px 1px 2px rgba(0, 0, 0, 0.3));\n",
              "      fill: #FFFFFF;\n",
              "    }\n",
              "  </style>\n",
              "\n",
              "      <script>\n",
              "        const buttonEl =\n",
              "          document.querySelector('#df-5a5d20af-a559-4f78-8bf5-5d9244a2b98e button.colab-df-convert');\n",
              "        buttonEl.style.display =\n",
              "          google.colab.kernel.accessAllowed ? 'block' : 'none';\n",
              "\n",
              "        async function convertToInteractive(key) {\n",
              "          const element = document.querySelector('#df-5a5d20af-a559-4f78-8bf5-5d9244a2b98e');\n",
              "          const dataTable =\n",
              "            await google.colab.kernel.invokeFunction('convertToInteractive',\n",
              "                                                     [key], {});\n",
              "          if (!dataTable) return;\n",
              "\n",
              "          const docLinkHtml = 'Like what you see? Visit the ' +\n",
              "            '<a target=\"_blank\" href=https://colab.research.google.com/notebooks/data_table.ipynb>data table notebook</a>'\n",
              "            + ' to learn more about interactive tables.';\n",
              "          element.innerHTML = '';\n",
              "          dataTable['output_type'] = 'display_data';\n",
              "          await google.colab.output.renderOutput(dataTable, element);\n",
              "          const docLink = document.createElement('div');\n",
              "          docLink.innerHTML = docLinkHtml;\n",
              "          element.appendChild(docLink);\n",
              "        }\n",
              "      </script>\n",
              "    </div>\n",
              "  </div>\n",
              "  "
            ]
          },
          "metadata": {},
          "execution_count": 226
        }
      ],
      "source": [
        "d.head()"
      ]
    },
    {
      "cell_type": "code",
      "execution_count": 227,
      "id": "88085cc2",
      "metadata": {
        "id": "88085cc2"
      },
      "outputs": [],
      "source": [
        "d['reviews'] = d['reviews'].apply(preprocessing)"
      ]
    },
    {
      "cell_type": "code",
      "execution_count": 228,
      "id": "6c25d649",
      "metadata": {
        "id": "6c25d649"
      },
      "outputs": [],
      "source": [
        "d['place'] = d['place'].apply(preprocessing)"
      ]
    },
    {
      "cell_type": "code",
      "execution_count": 229,
      "id": "3896d03d",
      "metadata": {
        "colab": {
          "base_uri": "https://localhost:8080/",
          "height": 206
        },
        "id": "3896d03d",
        "outputId": "05f1b262-ba49-4eeb-f2c2-9c8731e509df"
      },
      "outputs": [
        {
          "output_type": "execute_result",
          "data": {
            "text/plain": [
              "                title                                            reviews  \\\n",
              "0  board drink provid  trip verifi first time fli ba busi class never...   \n",
              "1     wifi didnt work  verifi buy sandwich crisp dont expect hot meal...   \n",
              "2       stick economi  trip verifi twoforon review cover economi busi...   \n",
              "3      commun terribl  trip verifi absolut horribl airlin commun terr...   \n",
              "4        delay cancel  trip verifi experienc delay cancel depart usa ...   \n",
              "\n",
              "        date         place  year  month  day  \n",
              "0 2023-06-25  unit kingdom  2023      6   25  \n",
              "1 2023-06-24  unit kingdom  2023      6   24  \n",
              "2 2023-06-24  unit kingdom  2023      6   24  \n",
              "3 2023-06-23    unit state  2023      6   23  \n",
              "4 2023-06-22    unit state  2023      6   22  "
            ],
            "text/html": [
              "\n",
              "  <div id=\"df-be3d5e0a-0201-4b36-81c3-c95736cd81de\">\n",
              "    <div class=\"colab-df-container\">\n",
              "      <div>\n",
              "<style scoped>\n",
              "    .dataframe tbody tr th:only-of-type {\n",
              "        vertical-align: middle;\n",
              "    }\n",
              "\n",
              "    .dataframe tbody tr th {\n",
              "        vertical-align: top;\n",
              "    }\n",
              "\n",
              "    .dataframe thead th {\n",
              "        text-align: right;\n",
              "    }\n",
              "</style>\n",
              "<table border=\"1\" class=\"dataframe\">\n",
              "  <thead>\n",
              "    <tr style=\"text-align: right;\">\n",
              "      <th></th>\n",
              "      <th>title</th>\n",
              "      <th>reviews</th>\n",
              "      <th>date</th>\n",
              "      <th>place</th>\n",
              "      <th>year</th>\n",
              "      <th>month</th>\n",
              "      <th>day</th>\n",
              "    </tr>\n",
              "  </thead>\n",
              "  <tbody>\n",
              "    <tr>\n",
              "      <th>0</th>\n",
              "      <td>board drink provid</td>\n",
              "      <td>trip verifi first time fli ba busi class never...</td>\n",
              "      <td>2023-06-25</td>\n",
              "      <td>unit kingdom</td>\n",
              "      <td>2023</td>\n",
              "      <td>6</td>\n",
              "      <td>25</td>\n",
              "    </tr>\n",
              "    <tr>\n",
              "      <th>1</th>\n",
              "      <td>wifi didnt work</td>\n",
              "      <td>verifi buy sandwich crisp dont expect hot meal...</td>\n",
              "      <td>2023-06-24</td>\n",
              "      <td>unit kingdom</td>\n",
              "      <td>2023</td>\n",
              "      <td>6</td>\n",
              "      <td>24</td>\n",
              "    </tr>\n",
              "    <tr>\n",
              "      <th>2</th>\n",
              "      <td>stick economi</td>\n",
              "      <td>trip verifi twoforon review cover economi busi...</td>\n",
              "      <td>2023-06-24</td>\n",
              "      <td>unit kingdom</td>\n",
              "      <td>2023</td>\n",
              "      <td>6</td>\n",
              "      <td>24</td>\n",
              "    </tr>\n",
              "    <tr>\n",
              "      <th>3</th>\n",
              "      <td>commun terribl</td>\n",
              "      <td>trip verifi absolut horribl airlin commun terr...</td>\n",
              "      <td>2023-06-23</td>\n",
              "      <td>unit state</td>\n",
              "      <td>2023</td>\n",
              "      <td>6</td>\n",
              "      <td>23</td>\n",
              "    </tr>\n",
              "    <tr>\n",
              "      <th>4</th>\n",
              "      <td>delay cancel</td>\n",
              "      <td>trip verifi experienc delay cancel depart usa ...</td>\n",
              "      <td>2023-06-22</td>\n",
              "      <td>unit state</td>\n",
              "      <td>2023</td>\n",
              "      <td>6</td>\n",
              "      <td>22</td>\n",
              "    </tr>\n",
              "  </tbody>\n",
              "</table>\n",
              "</div>\n",
              "      <button class=\"colab-df-convert\" onclick=\"convertToInteractive('df-be3d5e0a-0201-4b36-81c3-c95736cd81de')\"\n",
              "              title=\"Convert this dataframe to an interactive table.\"\n",
              "              style=\"display:none;\">\n",
              "        \n",
              "  <svg xmlns=\"http://www.w3.org/2000/svg\" height=\"24px\"viewBox=\"0 0 24 24\"\n",
              "       width=\"24px\">\n",
              "    <path d=\"M0 0h24v24H0V0z\" fill=\"none\"/>\n",
              "    <path d=\"M18.56 5.44l.94 2.06.94-2.06 2.06-.94-2.06-.94-.94-2.06-.94 2.06-2.06.94zm-11 1L8.5 8.5l.94-2.06 2.06-.94-2.06-.94L8.5 2.5l-.94 2.06-2.06.94zm10 10l.94 2.06.94-2.06 2.06-.94-2.06-.94-.94-2.06-.94 2.06-2.06.94z\"/><path d=\"M17.41 7.96l-1.37-1.37c-.4-.4-.92-.59-1.43-.59-.52 0-1.04.2-1.43.59L10.3 9.45l-7.72 7.72c-.78.78-.78 2.05 0 2.83L4 21.41c.39.39.9.59 1.41.59.51 0 1.02-.2 1.41-.59l7.78-7.78 2.81-2.81c.8-.78.8-2.07 0-2.86zM5.41 20L4 18.59l7.72-7.72 1.47 1.35L5.41 20z\"/>\n",
              "  </svg>\n",
              "      </button>\n",
              "      \n",
              "  <style>\n",
              "    .colab-df-container {\n",
              "      display:flex;\n",
              "      flex-wrap:wrap;\n",
              "      gap: 12px;\n",
              "    }\n",
              "\n",
              "    .colab-df-convert {\n",
              "      background-color: #E8F0FE;\n",
              "      border: none;\n",
              "      border-radius: 50%;\n",
              "      cursor: pointer;\n",
              "      display: none;\n",
              "      fill: #1967D2;\n",
              "      height: 32px;\n",
              "      padding: 0 0 0 0;\n",
              "      width: 32px;\n",
              "    }\n",
              "\n",
              "    .colab-df-convert:hover {\n",
              "      background-color: #E2EBFA;\n",
              "      box-shadow: 0px 1px 2px rgba(60, 64, 67, 0.3), 0px 1px 3px 1px rgba(60, 64, 67, 0.15);\n",
              "      fill: #174EA6;\n",
              "    }\n",
              "\n",
              "    [theme=dark] .colab-df-convert {\n",
              "      background-color: #3B4455;\n",
              "      fill: #D2E3FC;\n",
              "    }\n",
              "\n",
              "    [theme=dark] .colab-df-convert:hover {\n",
              "      background-color: #434B5C;\n",
              "      box-shadow: 0px 1px 3px 1px rgba(0, 0, 0, 0.15);\n",
              "      filter: drop-shadow(0px 1px 2px rgba(0, 0, 0, 0.3));\n",
              "      fill: #FFFFFF;\n",
              "    }\n",
              "  </style>\n",
              "\n",
              "      <script>\n",
              "        const buttonEl =\n",
              "          document.querySelector('#df-be3d5e0a-0201-4b36-81c3-c95736cd81de button.colab-df-convert');\n",
              "        buttonEl.style.display =\n",
              "          google.colab.kernel.accessAllowed ? 'block' : 'none';\n",
              "\n",
              "        async function convertToInteractive(key) {\n",
              "          const element = document.querySelector('#df-be3d5e0a-0201-4b36-81c3-c95736cd81de');\n",
              "          const dataTable =\n",
              "            await google.colab.kernel.invokeFunction('convertToInteractive',\n",
              "                                                     [key], {});\n",
              "          if (!dataTable) return;\n",
              "\n",
              "          const docLinkHtml = 'Like what you see? Visit the ' +\n",
              "            '<a target=\"_blank\" href=https://colab.research.google.com/notebooks/data_table.ipynb>data table notebook</a>'\n",
              "            + ' to learn more about interactive tables.';\n",
              "          element.innerHTML = '';\n",
              "          dataTable['output_type'] = 'display_data';\n",
              "          await google.colab.output.renderOutput(dataTable, element);\n",
              "          const docLink = document.createElement('div');\n",
              "          docLink.innerHTML = docLinkHtml;\n",
              "          element.appendChild(docLink);\n",
              "        }\n",
              "      </script>\n",
              "    </div>\n",
              "  </div>\n",
              "  "
            ]
          },
          "metadata": {},
          "execution_count": 229
        }
      ],
      "source": [
        "d.head()"
      ]
    },
    {
      "cell_type": "code",
      "execution_count": 230,
      "id": "3e154c3d",
      "metadata": {
        "id": "3e154c3d"
      },
      "outputs": [],
      "source": [
        "revi_score = []\n",
        "for value in d['reviews'].values:\n",
        "    revi_score.append(analyzer.polarity_scores(value)['compound'])\n",
        "\n",
        "d['revi_score'] = revi_score"
      ]
    },
    {
      "cell_type": "code",
      "execution_count": 231,
      "id": "ffdc48e2",
      "metadata": {
        "colab": {
          "base_uri": "https://localhost:8080/",
          "height": 206
        },
        "id": "ffdc48e2",
        "outputId": "b22233ab-651d-4598-8b4b-ba4a39ee8ebd"
      },
      "outputs": [
        {
          "output_type": "execute_result",
          "data": {
            "text/plain": [
              "                title                                            reviews  \\\n",
              "0  board drink provid  trip verifi first time fli ba busi class never...   \n",
              "1     wifi didnt work  verifi buy sandwich crisp dont expect hot meal...   \n",
              "2       stick economi  trip verifi twoforon review cover economi busi...   \n",
              "3      commun terribl  trip verifi absolut horribl airlin commun terr...   \n",
              "4        delay cancel  trip verifi experienc delay cancel depart usa ...   \n",
              "\n",
              "        date         place  year  month  day  revi_score  \n",
              "0 2023-06-25  unit kingdom  2023      6   25      0.0000  \n",
              "1 2023-06-24  unit kingdom  2023      6   24      0.3773  \n",
              "2 2023-06-24  unit kingdom  2023      6   24      0.9382  \n",
              "3 2023-06-23    unit state  2023      6   23     -0.6249  \n",
              "4 2023-06-22    unit state  2023      6   22     -0.4767  "
            ],
            "text/html": [
              "\n",
              "  <div id=\"df-e87bea18-26ca-4292-b626-813890ffafc6\">\n",
              "    <div class=\"colab-df-container\">\n",
              "      <div>\n",
              "<style scoped>\n",
              "    .dataframe tbody tr th:only-of-type {\n",
              "        vertical-align: middle;\n",
              "    }\n",
              "\n",
              "    .dataframe tbody tr th {\n",
              "        vertical-align: top;\n",
              "    }\n",
              "\n",
              "    .dataframe thead th {\n",
              "        text-align: right;\n",
              "    }\n",
              "</style>\n",
              "<table border=\"1\" class=\"dataframe\">\n",
              "  <thead>\n",
              "    <tr style=\"text-align: right;\">\n",
              "      <th></th>\n",
              "      <th>title</th>\n",
              "      <th>reviews</th>\n",
              "      <th>date</th>\n",
              "      <th>place</th>\n",
              "      <th>year</th>\n",
              "      <th>month</th>\n",
              "      <th>day</th>\n",
              "      <th>revi_score</th>\n",
              "    </tr>\n",
              "  </thead>\n",
              "  <tbody>\n",
              "    <tr>\n",
              "      <th>0</th>\n",
              "      <td>board drink provid</td>\n",
              "      <td>trip verifi first time fli ba busi class never...</td>\n",
              "      <td>2023-06-25</td>\n",
              "      <td>unit kingdom</td>\n",
              "      <td>2023</td>\n",
              "      <td>6</td>\n",
              "      <td>25</td>\n",
              "      <td>0.0000</td>\n",
              "    </tr>\n",
              "    <tr>\n",
              "      <th>1</th>\n",
              "      <td>wifi didnt work</td>\n",
              "      <td>verifi buy sandwich crisp dont expect hot meal...</td>\n",
              "      <td>2023-06-24</td>\n",
              "      <td>unit kingdom</td>\n",
              "      <td>2023</td>\n",
              "      <td>6</td>\n",
              "      <td>24</td>\n",
              "      <td>0.3773</td>\n",
              "    </tr>\n",
              "    <tr>\n",
              "      <th>2</th>\n",
              "      <td>stick economi</td>\n",
              "      <td>trip verifi twoforon review cover economi busi...</td>\n",
              "      <td>2023-06-24</td>\n",
              "      <td>unit kingdom</td>\n",
              "      <td>2023</td>\n",
              "      <td>6</td>\n",
              "      <td>24</td>\n",
              "      <td>0.9382</td>\n",
              "    </tr>\n",
              "    <tr>\n",
              "      <th>3</th>\n",
              "      <td>commun terribl</td>\n",
              "      <td>trip verifi absolut horribl airlin commun terr...</td>\n",
              "      <td>2023-06-23</td>\n",
              "      <td>unit state</td>\n",
              "      <td>2023</td>\n",
              "      <td>6</td>\n",
              "      <td>23</td>\n",
              "      <td>-0.6249</td>\n",
              "    </tr>\n",
              "    <tr>\n",
              "      <th>4</th>\n",
              "      <td>delay cancel</td>\n",
              "      <td>trip verifi experienc delay cancel depart usa ...</td>\n",
              "      <td>2023-06-22</td>\n",
              "      <td>unit state</td>\n",
              "      <td>2023</td>\n",
              "      <td>6</td>\n",
              "      <td>22</td>\n",
              "      <td>-0.4767</td>\n",
              "    </tr>\n",
              "  </tbody>\n",
              "</table>\n",
              "</div>\n",
              "      <button class=\"colab-df-convert\" onclick=\"convertToInteractive('df-e87bea18-26ca-4292-b626-813890ffafc6')\"\n",
              "              title=\"Convert this dataframe to an interactive table.\"\n",
              "              style=\"display:none;\">\n",
              "        \n",
              "  <svg xmlns=\"http://www.w3.org/2000/svg\" height=\"24px\"viewBox=\"0 0 24 24\"\n",
              "       width=\"24px\">\n",
              "    <path d=\"M0 0h24v24H0V0z\" fill=\"none\"/>\n",
              "    <path d=\"M18.56 5.44l.94 2.06.94-2.06 2.06-.94-2.06-.94-.94-2.06-.94 2.06-2.06.94zm-11 1L8.5 8.5l.94-2.06 2.06-.94-2.06-.94L8.5 2.5l-.94 2.06-2.06.94zm10 10l.94 2.06.94-2.06 2.06-.94-2.06-.94-.94-2.06-.94 2.06-2.06.94z\"/><path d=\"M17.41 7.96l-1.37-1.37c-.4-.4-.92-.59-1.43-.59-.52 0-1.04.2-1.43.59L10.3 9.45l-7.72 7.72c-.78.78-.78 2.05 0 2.83L4 21.41c.39.39.9.59 1.41.59.51 0 1.02-.2 1.41-.59l7.78-7.78 2.81-2.81c.8-.78.8-2.07 0-2.86zM5.41 20L4 18.59l7.72-7.72 1.47 1.35L5.41 20z\"/>\n",
              "  </svg>\n",
              "      </button>\n",
              "      \n",
              "  <style>\n",
              "    .colab-df-container {\n",
              "      display:flex;\n",
              "      flex-wrap:wrap;\n",
              "      gap: 12px;\n",
              "    }\n",
              "\n",
              "    .colab-df-convert {\n",
              "      background-color: #E8F0FE;\n",
              "      border: none;\n",
              "      border-radius: 50%;\n",
              "      cursor: pointer;\n",
              "      display: none;\n",
              "      fill: #1967D2;\n",
              "      height: 32px;\n",
              "      padding: 0 0 0 0;\n",
              "      width: 32px;\n",
              "    }\n",
              "\n",
              "    .colab-df-convert:hover {\n",
              "      background-color: #E2EBFA;\n",
              "      box-shadow: 0px 1px 2px rgba(60, 64, 67, 0.3), 0px 1px 3px 1px rgba(60, 64, 67, 0.15);\n",
              "      fill: #174EA6;\n",
              "    }\n",
              "\n",
              "    [theme=dark] .colab-df-convert {\n",
              "      background-color: #3B4455;\n",
              "      fill: #D2E3FC;\n",
              "    }\n",
              "\n",
              "    [theme=dark] .colab-df-convert:hover {\n",
              "      background-color: #434B5C;\n",
              "      box-shadow: 0px 1px 3px 1px rgba(0, 0, 0, 0.15);\n",
              "      filter: drop-shadow(0px 1px 2px rgba(0, 0, 0, 0.3));\n",
              "      fill: #FFFFFF;\n",
              "    }\n",
              "  </style>\n",
              "\n",
              "      <script>\n",
              "        const buttonEl =\n",
              "          document.querySelector('#df-e87bea18-26ca-4292-b626-813890ffafc6 button.colab-df-convert');\n",
              "        buttonEl.style.display =\n",
              "          google.colab.kernel.accessAllowed ? 'block' : 'none';\n",
              "\n",
              "        async function convertToInteractive(key) {\n",
              "          const element = document.querySelector('#df-e87bea18-26ca-4292-b626-813890ffafc6');\n",
              "          const dataTable =\n",
              "            await google.colab.kernel.invokeFunction('convertToInteractive',\n",
              "                                                     [key], {});\n",
              "          if (!dataTable) return;\n",
              "\n",
              "          const docLinkHtml = 'Like what you see? Visit the ' +\n",
              "            '<a target=\"_blank\" href=https://colab.research.google.com/notebooks/data_table.ipynb>data table notebook</a>'\n",
              "            + ' to learn more about interactive tables.';\n",
              "          element.innerHTML = '';\n",
              "          dataTable['output_type'] = 'display_data';\n",
              "          await google.colab.output.renderOutput(dataTable, element);\n",
              "          const docLink = document.createElement('div');\n",
              "          docLink.innerHTML = docLinkHtml;\n",
              "          element.appendChild(docLink);\n",
              "        }\n",
              "      </script>\n",
              "    </div>\n",
              "  </div>\n",
              "  "
            ]
          },
          "metadata": {},
          "execution_count": 231
        }
      ],
      "source": [
        "d.head()"
      ]
    },
    {
      "cell_type": "code",
      "execution_count": 232,
      "id": "a153de09",
      "metadata": {
        "id": "a153de09"
      },
      "outputs": [],
      "source": [
        "d['revi_score_sta'] = d['revi_score'].apply(score)"
      ]
    },
    {
      "cell_type": "code",
      "execution_count": 233,
      "id": "8e71be54",
      "metadata": {
        "colab": {
          "base_uri": "https://localhost:8080/",
          "height": 206
        },
        "id": "8e71be54",
        "outputId": "c120d359-e41c-4fd1-b61a-91099ac85784"
      },
      "outputs": [
        {
          "output_type": "execute_result",
          "data": {
            "text/plain": [
              "                title                                            reviews  \\\n",
              "0  board drink provid  trip verifi first time fli ba busi class never...   \n",
              "1     wifi didnt work  verifi buy sandwich crisp dont expect hot meal...   \n",
              "2       stick economi  trip verifi twoforon review cover economi busi...   \n",
              "3      commun terribl  trip verifi absolut horribl airlin commun terr...   \n",
              "4        delay cancel  trip verifi experienc delay cancel depart usa ...   \n",
              "\n",
              "        date         place  year  month  day  revi_score revi_score_sta  \n",
              "0 2023-06-25  unit kingdom  2023      6   25      0.0000        neutral  \n",
              "1 2023-06-24  unit kingdom  2023      6   24      0.3773       positive  \n",
              "2 2023-06-24  unit kingdom  2023      6   24      0.9382       positive  \n",
              "3 2023-06-23    unit state  2023      6   23     -0.6249       negative  \n",
              "4 2023-06-22    unit state  2023      6   22     -0.4767       negative  "
            ],
            "text/html": [
              "\n",
              "  <div id=\"df-bb250959-e2eb-452f-9303-ff1561eac4ed\">\n",
              "    <div class=\"colab-df-container\">\n",
              "      <div>\n",
              "<style scoped>\n",
              "    .dataframe tbody tr th:only-of-type {\n",
              "        vertical-align: middle;\n",
              "    }\n",
              "\n",
              "    .dataframe tbody tr th {\n",
              "        vertical-align: top;\n",
              "    }\n",
              "\n",
              "    .dataframe thead th {\n",
              "        text-align: right;\n",
              "    }\n",
              "</style>\n",
              "<table border=\"1\" class=\"dataframe\">\n",
              "  <thead>\n",
              "    <tr style=\"text-align: right;\">\n",
              "      <th></th>\n",
              "      <th>title</th>\n",
              "      <th>reviews</th>\n",
              "      <th>date</th>\n",
              "      <th>place</th>\n",
              "      <th>year</th>\n",
              "      <th>month</th>\n",
              "      <th>day</th>\n",
              "      <th>revi_score</th>\n",
              "      <th>revi_score_sta</th>\n",
              "    </tr>\n",
              "  </thead>\n",
              "  <tbody>\n",
              "    <tr>\n",
              "      <th>0</th>\n",
              "      <td>board drink provid</td>\n",
              "      <td>trip verifi first time fli ba busi class never...</td>\n",
              "      <td>2023-06-25</td>\n",
              "      <td>unit kingdom</td>\n",
              "      <td>2023</td>\n",
              "      <td>6</td>\n",
              "      <td>25</td>\n",
              "      <td>0.0000</td>\n",
              "      <td>neutral</td>\n",
              "    </tr>\n",
              "    <tr>\n",
              "      <th>1</th>\n",
              "      <td>wifi didnt work</td>\n",
              "      <td>verifi buy sandwich crisp dont expect hot meal...</td>\n",
              "      <td>2023-06-24</td>\n",
              "      <td>unit kingdom</td>\n",
              "      <td>2023</td>\n",
              "      <td>6</td>\n",
              "      <td>24</td>\n",
              "      <td>0.3773</td>\n",
              "      <td>positive</td>\n",
              "    </tr>\n",
              "    <tr>\n",
              "      <th>2</th>\n",
              "      <td>stick economi</td>\n",
              "      <td>trip verifi twoforon review cover economi busi...</td>\n",
              "      <td>2023-06-24</td>\n",
              "      <td>unit kingdom</td>\n",
              "      <td>2023</td>\n",
              "      <td>6</td>\n",
              "      <td>24</td>\n",
              "      <td>0.9382</td>\n",
              "      <td>positive</td>\n",
              "    </tr>\n",
              "    <tr>\n",
              "      <th>3</th>\n",
              "      <td>commun terribl</td>\n",
              "      <td>trip verifi absolut horribl airlin commun terr...</td>\n",
              "      <td>2023-06-23</td>\n",
              "      <td>unit state</td>\n",
              "      <td>2023</td>\n",
              "      <td>6</td>\n",
              "      <td>23</td>\n",
              "      <td>-0.6249</td>\n",
              "      <td>negative</td>\n",
              "    </tr>\n",
              "    <tr>\n",
              "      <th>4</th>\n",
              "      <td>delay cancel</td>\n",
              "      <td>trip verifi experienc delay cancel depart usa ...</td>\n",
              "      <td>2023-06-22</td>\n",
              "      <td>unit state</td>\n",
              "      <td>2023</td>\n",
              "      <td>6</td>\n",
              "      <td>22</td>\n",
              "      <td>-0.4767</td>\n",
              "      <td>negative</td>\n",
              "    </tr>\n",
              "  </tbody>\n",
              "</table>\n",
              "</div>\n",
              "      <button class=\"colab-df-convert\" onclick=\"convertToInteractive('df-bb250959-e2eb-452f-9303-ff1561eac4ed')\"\n",
              "              title=\"Convert this dataframe to an interactive table.\"\n",
              "              style=\"display:none;\">\n",
              "        \n",
              "  <svg xmlns=\"http://www.w3.org/2000/svg\" height=\"24px\"viewBox=\"0 0 24 24\"\n",
              "       width=\"24px\">\n",
              "    <path d=\"M0 0h24v24H0V0z\" fill=\"none\"/>\n",
              "    <path d=\"M18.56 5.44l.94 2.06.94-2.06 2.06-.94-2.06-.94-.94-2.06-.94 2.06-2.06.94zm-11 1L8.5 8.5l.94-2.06 2.06-.94-2.06-.94L8.5 2.5l-.94 2.06-2.06.94zm10 10l.94 2.06.94-2.06 2.06-.94-2.06-.94-.94-2.06-.94 2.06-2.06.94z\"/><path d=\"M17.41 7.96l-1.37-1.37c-.4-.4-.92-.59-1.43-.59-.52 0-1.04.2-1.43.59L10.3 9.45l-7.72 7.72c-.78.78-.78 2.05 0 2.83L4 21.41c.39.39.9.59 1.41.59.51 0 1.02-.2 1.41-.59l7.78-7.78 2.81-2.81c.8-.78.8-2.07 0-2.86zM5.41 20L4 18.59l7.72-7.72 1.47 1.35L5.41 20z\"/>\n",
              "  </svg>\n",
              "      </button>\n",
              "      \n",
              "  <style>\n",
              "    .colab-df-container {\n",
              "      display:flex;\n",
              "      flex-wrap:wrap;\n",
              "      gap: 12px;\n",
              "    }\n",
              "\n",
              "    .colab-df-convert {\n",
              "      background-color: #E8F0FE;\n",
              "      border: none;\n",
              "      border-radius: 50%;\n",
              "      cursor: pointer;\n",
              "      display: none;\n",
              "      fill: #1967D2;\n",
              "      height: 32px;\n",
              "      padding: 0 0 0 0;\n",
              "      width: 32px;\n",
              "    }\n",
              "\n",
              "    .colab-df-convert:hover {\n",
              "      background-color: #E2EBFA;\n",
              "      box-shadow: 0px 1px 2px rgba(60, 64, 67, 0.3), 0px 1px 3px 1px rgba(60, 64, 67, 0.15);\n",
              "      fill: #174EA6;\n",
              "    }\n",
              "\n",
              "    [theme=dark] .colab-df-convert {\n",
              "      background-color: #3B4455;\n",
              "      fill: #D2E3FC;\n",
              "    }\n",
              "\n",
              "    [theme=dark] .colab-df-convert:hover {\n",
              "      background-color: #434B5C;\n",
              "      box-shadow: 0px 1px 3px 1px rgba(0, 0, 0, 0.15);\n",
              "      filter: drop-shadow(0px 1px 2px rgba(0, 0, 0, 0.3));\n",
              "      fill: #FFFFFF;\n",
              "    }\n",
              "  </style>\n",
              "\n",
              "      <script>\n",
              "        const buttonEl =\n",
              "          document.querySelector('#df-bb250959-e2eb-452f-9303-ff1561eac4ed button.colab-df-convert');\n",
              "        buttonEl.style.display =\n",
              "          google.colab.kernel.accessAllowed ? 'block' : 'none';\n",
              "\n",
              "        async function convertToInteractive(key) {\n",
              "          const element = document.querySelector('#df-bb250959-e2eb-452f-9303-ff1561eac4ed');\n",
              "          const dataTable =\n",
              "            await google.colab.kernel.invokeFunction('convertToInteractive',\n",
              "                                                     [key], {});\n",
              "          if (!dataTable) return;\n",
              "\n",
              "          const docLinkHtml = 'Like what you see? Visit the ' +\n",
              "            '<a target=\"_blank\" href=https://colab.research.google.com/notebooks/data_table.ipynb>data table notebook</a>'\n",
              "            + ' to learn more about interactive tables.';\n",
              "          element.innerHTML = '';\n",
              "          dataTable['output_type'] = 'display_data';\n",
              "          await google.colab.output.renderOutput(dataTable, element);\n",
              "          const docLink = document.createElement('div');\n",
              "          docLink.innerHTML = docLinkHtml;\n",
              "          element.appendChild(docLink);\n",
              "        }\n",
              "      </script>\n",
              "    </div>\n",
              "  </div>\n",
              "  "
            ]
          },
          "metadata": {},
          "execution_count": 233
        }
      ],
      "source": [
        "d.head()"
      ]
    },
    {
      "cell_type": "code",
      "execution_count": 234,
      "id": "d0888aaf",
      "metadata": {
        "id": "d0888aaf"
      },
      "outputs": [],
      "source": [
        "#sns.countplot(d['revi_score_sta'])"
      ]
    },
    {
      "cell_type": "code",
      "execution_count": 235,
      "id": "a678aeb0",
      "metadata": {
        "id": "a678aeb0"
      },
      "outputs": [],
      "source": [
        "#plt.pie(d['revi_score_sta'].value_counts(),labels=['positve','negative','neutral'],autopct='%.2f');"
      ]
    },
    {
      "cell_type": "code",
      "execution_count": 236,
      "id": "b4c9436f",
      "metadata": {
        "id": "b4c9436f"
      },
      "outputs": [],
      "source": [
        "title_score = []\n",
        "for value in d['title'].values:\n",
        "    title_score.append(analyzer.polarity_scores(value)['compound'])\n",
        "\n",
        "d['title_score'] = title_score"
      ]
    },
    {
      "cell_type": "code",
      "execution_count": 237,
      "id": "8cf65bc4",
      "metadata": {
        "colab": {
          "base_uri": "https://localhost:8080/",
          "height": 206
        },
        "id": "8cf65bc4",
        "outputId": "cc3246fd-0ac8-4684-dc63-d9528dbcb038"
      },
      "outputs": [
        {
          "output_type": "execute_result",
          "data": {
            "text/plain": [
              "                title                                            reviews  \\\n",
              "0  board drink provid  trip verifi first time fli ba busi class never...   \n",
              "1     wifi didnt work  verifi buy sandwich crisp dont expect hot meal...   \n",
              "2       stick economi  trip verifi twoforon review cover economi busi...   \n",
              "3      commun terribl  trip verifi absolut horribl airlin commun terr...   \n",
              "4        delay cancel  trip verifi experienc delay cancel depart usa ...   \n",
              "\n",
              "        date         place  year  month  day  revi_score revi_score_sta  \\\n",
              "0 2023-06-25  unit kingdom  2023      6   25      0.0000        neutral   \n",
              "1 2023-06-24  unit kingdom  2023      6   24      0.3773       positive   \n",
              "2 2023-06-24  unit kingdom  2023      6   24      0.9382       positive   \n",
              "3 2023-06-23    unit state  2023      6   23     -0.6249       negative   \n",
              "4 2023-06-22    unit state  2023      6   22     -0.4767       negative   \n",
              "\n",
              "   title_score  \n",
              "0       0.0000  \n",
              "1       0.0000  \n",
              "2       0.0000  \n",
              "3       0.0000  \n",
              "4      -0.5106  "
            ],
            "text/html": [
              "\n",
              "  <div id=\"df-241cb28c-7db7-42ca-b603-1adf1a587bcb\">\n",
              "    <div class=\"colab-df-container\">\n",
              "      <div>\n",
              "<style scoped>\n",
              "    .dataframe tbody tr th:only-of-type {\n",
              "        vertical-align: middle;\n",
              "    }\n",
              "\n",
              "    .dataframe tbody tr th {\n",
              "        vertical-align: top;\n",
              "    }\n",
              "\n",
              "    .dataframe thead th {\n",
              "        text-align: right;\n",
              "    }\n",
              "</style>\n",
              "<table border=\"1\" class=\"dataframe\">\n",
              "  <thead>\n",
              "    <tr style=\"text-align: right;\">\n",
              "      <th></th>\n",
              "      <th>title</th>\n",
              "      <th>reviews</th>\n",
              "      <th>date</th>\n",
              "      <th>place</th>\n",
              "      <th>year</th>\n",
              "      <th>month</th>\n",
              "      <th>day</th>\n",
              "      <th>revi_score</th>\n",
              "      <th>revi_score_sta</th>\n",
              "      <th>title_score</th>\n",
              "    </tr>\n",
              "  </thead>\n",
              "  <tbody>\n",
              "    <tr>\n",
              "      <th>0</th>\n",
              "      <td>board drink provid</td>\n",
              "      <td>trip verifi first time fli ba busi class never...</td>\n",
              "      <td>2023-06-25</td>\n",
              "      <td>unit kingdom</td>\n",
              "      <td>2023</td>\n",
              "      <td>6</td>\n",
              "      <td>25</td>\n",
              "      <td>0.0000</td>\n",
              "      <td>neutral</td>\n",
              "      <td>0.0000</td>\n",
              "    </tr>\n",
              "    <tr>\n",
              "      <th>1</th>\n",
              "      <td>wifi didnt work</td>\n",
              "      <td>verifi buy sandwich crisp dont expect hot meal...</td>\n",
              "      <td>2023-06-24</td>\n",
              "      <td>unit kingdom</td>\n",
              "      <td>2023</td>\n",
              "      <td>6</td>\n",
              "      <td>24</td>\n",
              "      <td>0.3773</td>\n",
              "      <td>positive</td>\n",
              "      <td>0.0000</td>\n",
              "    </tr>\n",
              "    <tr>\n",
              "      <th>2</th>\n",
              "      <td>stick economi</td>\n",
              "      <td>trip verifi twoforon review cover economi busi...</td>\n",
              "      <td>2023-06-24</td>\n",
              "      <td>unit kingdom</td>\n",
              "      <td>2023</td>\n",
              "      <td>6</td>\n",
              "      <td>24</td>\n",
              "      <td>0.9382</td>\n",
              "      <td>positive</td>\n",
              "      <td>0.0000</td>\n",
              "    </tr>\n",
              "    <tr>\n",
              "      <th>3</th>\n",
              "      <td>commun terribl</td>\n",
              "      <td>trip verifi absolut horribl airlin commun terr...</td>\n",
              "      <td>2023-06-23</td>\n",
              "      <td>unit state</td>\n",
              "      <td>2023</td>\n",
              "      <td>6</td>\n",
              "      <td>23</td>\n",
              "      <td>-0.6249</td>\n",
              "      <td>negative</td>\n",
              "      <td>0.0000</td>\n",
              "    </tr>\n",
              "    <tr>\n",
              "      <th>4</th>\n",
              "      <td>delay cancel</td>\n",
              "      <td>trip verifi experienc delay cancel depart usa ...</td>\n",
              "      <td>2023-06-22</td>\n",
              "      <td>unit state</td>\n",
              "      <td>2023</td>\n",
              "      <td>6</td>\n",
              "      <td>22</td>\n",
              "      <td>-0.4767</td>\n",
              "      <td>negative</td>\n",
              "      <td>-0.5106</td>\n",
              "    </tr>\n",
              "  </tbody>\n",
              "</table>\n",
              "</div>\n",
              "      <button class=\"colab-df-convert\" onclick=\"convertToInteractive('df-241cb28c-7db7-42ca-b603-1adf1a587bcb')\"\n",
              "              title=\"Convert this dataframe to an interactive table.\"\n",
              "              style=\"display:none;\">\n",
              "        \n",
              "  <svg xmlns=\"http://www.w3.org/2000/svg\" height=\"24px\"viewBox=\"0 0 24 24\"\n",
              "       width=\"24px\">\n",
              "    <path d=\"M0 0h24v24H0V0z\" fill=\"none\"/>\n",
              "    <path d=\"M18.56 5.44l.94 2.06.94-2.06 2.06-.94-2.06-.94-.94-2.06-.94 2.06-2.06.94zm-11 1L8.5 8.5l.94-2.06 2.06-.94-2.06-.94L8.5 2.5l-.94 2.06-2.06.94zm10 10l.94 2.06.94-2.06 2.06-.94-2.06-.94-.94-2.06-.94 2.06-2.06.94z\"/><path d=\"M17.41 7.96l-1.37-1.37c-.4-.4-.92-.59-1.43-.59-.52 0-1.04.2-1.43.59L10.3 9.45l-7.72 7.72c-.78.78-.78 2.05 0 2.83L4 21.41c.39.39.9.59 1.41.59.51 0 1.02-.2 1.41-.59l7.78-7.78 2.81-2.81c.8-.78.8-2.07 0-2.86zM5.41 20L4 18.59l7.72-7.72 1.47 1.35L5.41 20z\"/>\n",
              "  </svg>\n",
              "      </button>\n",
              "      \n",
              "  <style>\n",
              "    .colab-df-container {\n",
              "      display:flex;\n",
              "      flex-wrap:wrap;\n",
              "      gap: 12px;\n",
              "    }\n",
              "\n",
              "    .colab-df-convert {\n",
              "      background-color: #E8F0FE;\n",
              "      border: none;\n",
              "      border-radius: 50%;\n",
              "      cursor: pointer;\n",
              "      display: none;\n",
              "      fill: #1967D2;\n",
              "      height: 32px;\n",
              "      padding: 0 0 0 0;\n",
              "      width: 32px;\n",
              "    }\n",
              "\n",
              "    .colab-df-convert:hover {\n",
              "      background-color: #E2EBFA;\n",
              "      box-shadow: 0px 1px 2px rgba(60, 64, 67, 0.3), 0px 1px 3px 1px rgba(60, 64, 67, 0.15);\n",
              "      fill: #174EA6;\n",
              "    }\n",
              "\n",
              "    [theme=dark] .colab-df-convert {\n",
              "      background-color: #3B4455;\n",
              "      fill: #D2E3FC;\n",
              "    }\n",
              "\n",
              "    [theme=dark] .colab-df-convert:hover {\n",
              "      background-color: #434B5C;\n",
              "      box-shadow: 0px 1px 3px 1px rgba(0, 0, 0, 0.15);\n",
              "      filter: drop-shadow(0px 1px 2px rgba(0, 0, 0, 0.3));\n",
              "      fill: #FFFFFF;\n",
              "    }\n",
              "  </style>\n",
              "\n",
              "      <script>\n",
              "        const buttonEl =\n",
              "          document.querySelector('#df-241cb28c-7db7-42ca-b603-1adf1a587bcb button.colab-df-convert');\n",
              "        buttonEl.style.display =\n",
              "          google.colab.kernel.accessAllowed ? 'block' : 'none';\n",
              "\n",
              "        async function convertToInteractive(key) {\n",
              "          const element = document.querySelector('#df-241cb28c-7db7-42ca-b603-1adf1a587bcb');\n",
              "          const dataTable =\n",
              "            await google.colab.kernel.invokeFunction('convertToInteractive',\n",
              "                                                     [key], {});\n",
              "          if (!dataTable) return;\n",
              "\n",
              "          const docLinkHtml = 'Like what you see? Visit the ' +\n",
              "            '<a target=\"_blank\" href=https://colab.research.google.com/notebooks/data_table.ipynb>data table notebook</a>'\n",
              "            + ' to learn more about interactive tables.';\n",
              "          element.innerHTML = '';\n",
              "          dataTable['output_type'] = 'display_data';\n",
              "          await google.colab.output.renderOutput(dataTable, element);\n",
              "          const docLink = document.createElement('div');\n",
              "          docLink.innerHTML = docLinkHtml;\n",
              "          element.appendChild(docLink);\n",
              "        }\n",
              "      </script>\n",
              "    </div>\n",
              "  </div>\n",
              "  "
            ]
          },
          "metadata": {},
          "execution_count": 237
        }
      ],
      "source": [
        "d.head()"
      ]
    },
    {
      "cell_type": "code",
      "execution_count": 238,
      "id": "9145731a",
      "metadata": {
        "id": "9145731a"
      },
      "outputs": [],
      "source": [
        "d['title_score_sta'] = d['title_score'].apply(score)"
      ]
    },
    {
      "cell_type": "code",
      "execution_count": 239,
      "id": "d36654fa",
      "metadata": {
        "colab": {
          "base_uri": "https://localhost:8080/",
          "height": 337
        },
        "id": "d36654fa",
        "outputId": "3364923e-86c3-4625-9b82-50c8f7ed7d21"
      },
      "outputs": [
        {
          "output_type": "execute_result",
          "data": {
            "text/plain": [
              "                title                                            reviews  \\\n",
              "0  board drink provid  trip verifi first time fli ba busi class never...   \n",
              "1     wifi didnt work  verifi buy sandwich crisp dont expect hot meal...   \n",
              "2       stick economi  trip verifi twoforon review cover economi busi...   \n",
              "3      commun terribl  trip verifi absolut horribl airlin commun terr...   \n",
              "4        delay cancel  trip verifi experienc delay cancel depart usa ...   \n",
              "\n",
              "        date         place  year  month  day  revi_score revi_score_sta  \\\n",
              "0 2023-06-25  unit kingdom  2023      6   25      0.0000        neutral   \n",
              "1 2023-06-24  unit kingdom  2023      6   24      0.3773       positive   \n",
              "2 2023-06-24  unit kingdom  2023      6   24      0.9382       positive   \n",
              "3 2023-06-23    unit state  2023      6   23     -0.6249       negative   \n",
              "4 2023-06-22    unit state  2023      6   22     -0.4767       negative   \n",
              "\n",
              "   title_score title_score_sta  \n",
              "0       0.0000         neutral  \n",
              "1       0.0000         neutral  \n",
              "2       0.0000         neutral  \n",
              "3       0.0000         neutral  \n",
              "4      -0.5106        negative  "
            ],
            "text/html": [
              "\n",
              "  <div id=\"df-1ec227ca-bb21-4c4a-a34a-399a7c427d30\">\n",
              "    <div class=\"colab-df-container\">\n",
              "      <div>\n",
              "<style scoped>\n",
              "    .dataframe tbody tr th:only-of-type {\n",
              "        vertical-align: middle;\n",
              "    }\n",
              "\n",
              "    .dataframe tbody tr th {\n",
              "        vertical-align: top;\n",
              "    }\n",
              "\n",
              "    .dataframe thead th {\n",
              "        text-align: right;\n",
              "    }\n",
              "</style>\n",
              "<table border=\"1\" class=\"dataframe\">\n",
              "  <thead>\n",
              "    <tr style=\"text-align: right;\">\n",
              "      <th></th>\n",
              "      <th>title</th>\n",
              "      <th>reviews</th>\n",
              "      <th>date</th>\n",
              "      <th>place</th>\n",
              "      <th>year</th>\n",
              "      <th>month</th>\n",
              "      <th>day</th>\n",
              "      <th>revi_score</th>\n",
              "      <th>revi_score_sta</th>\n",
              "      <th>title_score</th>\n",
              "      <th>title_score_sta</th>\n",
              "    </tr>\n",
              "  </thead>\n",
              "  <tbody>\n",
              "    <tr>\n",
              "      <th>0</th>\n",
              "      <td>board drink provid</td>\n",
              "      <td>trip verifi first time fli ba busi class never...</td>\n",
              "      <td>2023-06-25</td>\n",
              "      <td>unit kingdom</td>\n",
              "      <td>2023</td>\n",
              "      <td>6</td>\n",
              "      <td>25</td>\n",
              "      <td>0.0000</td>\n",
              "      <td>neutral</td>\n",
              "      <td>0.0000</td>\n",
              "      <td>neutral</td>\n",
              "    </tr>\n",
              "    <tr>\n",
              "      <th>1</th>\n",
              "      <td>wifi didnt work</td>\n",
              "      <td>verifi buy sandwich crisp dont expect hot meal...</td>\n",
              "      <td>2023-06-24</td>\n",
              "      <td>unit kingdom</td>\n",
              "      <td>2023</td>\n",
              "      <td>6</td>\n",
              "      <td>24</td>\n",
              "      <td>0.3773</td>\n",
              "      <td>positive</td>\n",
              "      <td>0.0000</td>\n",
              "      <td>neutral</td>\n",
              "    </tr>\n",
              "    <tr>\n",
              "      <th>2</th>\n",
              "      <td>stick economi</td>\n",
              "      <td>trip verifi twoforon review cover economi busi...</td>\n",
              "      <td>2023-06-24</td>\n",
              "      <td>unit kingdom</td>\n",
              "      <td>2023</td>\n",
              "      <td>6</td>\n",
              "      <td>24</td>\n",
              "      <td>0.9382</td>\n",
              "      <td>positive</td>\n",
              "      <td>0.0000</td>\n",
              "      <td>neutral</td>\n",
              "    </tr>\n",
              "    <tr>\n",
              "      <th>3</th>\n",
              "      <td>commun terribl</td>\n",
              "      <td>trip verifi absolut horribl airlin commun terr...</td>\n",
              "      <td>2023-06-23</td>\n",
              "      <td>unit state</td>\n",
              "      <td>2023</td>\n",
              "      <td>6</td>\n",
              "      <td>23</td>\n",
              "      <td>-0.6249</td>\n",
              "      <td>negative</td>\n",
              "      <td>0.0000</td>\n",
              "      <td>neutral</td>\n",
              "    </tr>\n",
              "    <tr>\n",
              "      <th>4</th>\n",
              "      <td>delay cancel</td>\n",
              "      <td>trip verifi experienc delay cancel depart usa ...</td>\n",
              "      <td>2023-06-22</td>\n",
              "      <td>unit state</td>\n",
              "      <td>2023</td>\n",
              "      <td>6</td>\n",
              "      <td>22</td>\n",
              "      <td>-0.4767</td>\n",
              "      <td>negative</td>\n",
              "      <td>-0.5106</td>\n",
              "      <td>negative</td>\n",
              "    </tr>\n",
              "  </tbody>\n",
              "</table>\n",
              "</div>\n",
              "      <button class=\"colab-df-convert\" onclick=\"convertToInteractive('df-1ec227ca-bb21-4c4a-a34a-399a7c427d30')\"\n",
              "              title=\"Convert this dataframe to an interactive table.\"\n",
              "              style=\"display:none;\">\n",
              "        \n",
              "  <svg xmlns=\"http://www.w3.org/2000/svg\" height=\"24px\"viewBox=\"0 0 24 24\"\n",
              "       width=\"24px\">\n",
              "    <path d=\"M0 0h24v24H0V0z\" fill=\"none\"/>\n",
              "    <path d=\"M18.56 5.44l.94 2.06.94-2.06 2.06-.94-2.06-.94-.94-2.06-.94 2.06-2.06.94zm-11 1L8.5 8.5l.94-2.06 2.06-.94-2.06-.94L8.5 2.5l-.94 2.06-2.06.94zm10 10l.94 2.06.94-2.06 2.06-.94-2.06-.94-.94-2.06-.94 2.06-2.06.94z\"/><path d=\"M17.41 7.96l-1.37-1.37c-.4-.4-.92-.59-1.43-.59-.52 0-1.04.2-1.43.59L10.3 9.45l-7.72 7.72c-.78.78-.78 2.05 0 2.83L4 21.41c.39.39.9.59 1.41.59.51 0 1.02-.2 1.41-.59l7.78-7.78 2.81-2.81c.8-.78.8-2.07 0-2.86zM5.41 20L4 18.59l7.72-7.72 1.47 1.35L5.41 20z\"/>\n",
              "  </svg>\n",
              "      </button>\n",
              "      \n",
              "  <style>\n",
              "    .colab-df-container {\n",
              "      display:flex;\n",
              "      flex-wrap:wrap;\n",
              "      gap: 12px;\n",
              "    }\n",
              "\n",
              "    .colab-df-convert {\n",
              "      background-color: #E8F0FE;\n",
              "      border: none;\n",
              "      border-radius: 50%;\n",
              "      cursor: pointer;\n",
              "      display: none;\n",
              "      fill: #1967D2;\n",
              "      height: 32px;\n",
              "      padding: 0 0 0 0;\n",
              "      width: 32px;\n",
              "    }\n",
              "\n",
              "    .colab-df-convert:hover {\n",
              "      background-color: #E2EBFA;\n",
              "      box-shadow: 0px 1px 2px rgba(60, 64, 67, 0.3), 0px 1px 3px 1px rgba(60, 64, 67, 0.15);\n",
              "      fill: #174EA6;\n",
              "    }\n",
              "\n",
              "    [theme=dark] .colab-df-convert {\n",
              "      background-color: #3B4455;\n",
              "      fill: #D2E3FC;\n",
              "    }\n",
              "\n",
              "    [theme=dark] .colab-df-convert:hover {\n",
              "      background-color: #434B5C;\n",
              "      box-shadow: 0px 1px 3px 1px rgba(0, 0, 0, 0.15);\n",
              "      filter: drop-shadow(0px 1px 2px rgba(0, 0, 0, 0.3));\n",
              "      fill: #FFFFFF;\n",
              "    }\n",
              "  </style>\n",
              "\n",
              "      <script>\n",
              "        const buttonEl =\n",
              "          document.querySelector('#df-1ec227ca-bb21-4c4a-a34a-399a7c427d30 button.colab-df-convert');\n",
              "        buttonEl.style.display =\n",
              "          google.colab.kernel.accessAllowed ? 'block' : 'none';\n",
              "\n",
              "        async function convertToInteractive(key) {\n",
              "          const element = document.querySelector('#df-1ec227ca-bb21-4c4a-a34a-399a7c427d30');\n",
              "          const dataTable =\n",
              "            await google.colab.kernel.invokeFunction('convertToInteractive',\n",
              "                                                     [key], {});\n",
              "          if (!dataTable) return;\n",
              "\n",
              "          const docLinkHtml = 'Like what you see? Visit the ' +\n",
              "            '<a target=\"_blank\" href=https://colab.research.google.com/notebooks/data_table.ipynb>data table notebook</a>'\n",
              "            + ' to learn more about interactive tables.';\n",
              "          element.innerHTML = '';\n",
              "          dataTable['output_type'] = 'display_data';\n",
              "          await google.colab.output.renderOutput(dataTable, element);\n",
              "          const docLink = document.createElement('div');\n",
              "          docLink.innerHTML = docLinkHtml;\n",
              "          element.appendChild(docLink);\n",
              "        }\n",
              "      </script>\n",
              "    </div>\n",
              "  </div>\n",
              "  "
            ]
          },
          "metadata": {},
          "execution_count": 239
        }
      ],
      "source": [
        "d.head()"
      ]
    },
    {
      "cell_type": "code",
      "execution_count": 240,
      "id": "b0b48cb0",
      "metadata": {
        "id": "b0b48cb0"
      },
      "outputs": [],
      "source": [
        "#sns.countplot(d['title_score_sta'])"
      ]
    },
    {
      "cell_type": "code",
      "execution_count": 241,
      "id": "6af1b494",
      "metadata": {
        "id": "6af1b494"
      },
      "outputs": [],
      "source": [
        "#plt.pie(d['title_score_sta'].value_counts(),labels=['neutral','positive','negative'],autopct='%.2f');"
      ]
    },
    {
      "cell_type": "code",
      "execution_count": 242,
      "id": "c2a4b7d4",
      "metadata": {
        "id": "c2a4b7d4"
      },
      "outputs": [],
      "source": [
        "d.sort_values(by='date',inplace=True,ascending=False)"
      ]
    },
    {
      "cell_type": "code",
      "execution_count": 243,
      "id": "e1ccfda1",
      "metadata": {
        "colab": {
          "base_uri": "https://localhost:8080/",
          "height": 337
        },
        "id": "e1ccfda1",
        "outputId": "21fc0b1d-e94e-4d1f-bd73-9ef24896b55b"
      },
      "outputs": [
        {
          "output_type": "execute_result",
          "data": {
            "text/plain": [
              "                title                                            reviews  \\\n",
              "0  board drink provid  trip verifi first time fli ba busi class never...   \n",
              "2       stick economi  trip verifi twoforon review cover economi busi...   \n",
              "1     wifi didnt work  verifi buy sandwich crisp dont expect hot meal...   \n",
              "3      commun terribl  trip verifi absolut horribl airlin commun terr...   \n",
              "4        delay cancel  trip verifi experienc delay cancel depart usa ...   \n",
              "\n",
              "        date         place  year  month  day  revi_score revi_score_sta  \\\n",
              "0 2023-06-25  unit kingdom  2023      6   25      0.0000        neutral   \n",
              "2 2023-06-24  unit kingdom  2023      6   24      0.9382       positive   \n",
              "1 2023-06-24  unit kingdom  2023      6   24      0.3773       positive   \n",
              "3 2023-06-23    unit state  2023      6   23     -0.6249       negative   \n",
              "4 2023-06-22    unit state  2023      6   22     -0.4767       negative   \n",
              "\n",
              "   title_score title_score_sta  \n",
              "0       0.0000         neutral  \n",
              "2       0.0000         neutral  \n",
              "1       0.0000         neutral  \n",
              "3       0.0000         neutral  \n",
              "4      -0.5106        negative  "
            ],
            "text/html": [
              "\n",
              "  <div id=\"df-7135cf44-f073-44eb-89c2-0821f10b5fcc\">\n",
              "    <div class=\"colab-df-container\">\n",
              "      <div>\n",
              "<style scoped>\n",
              "    .dataframe tbody tr th:only-of-type {\n",
              "        vertical-align: middle;\n",
              "    }\n",
              "\n",
              "    .dataframe tbody tr th {\n",
              "        vertical-align: top;\n",
              "    }\n",
              "\n",
              "    .dataframe thead th {\n",
              "        text-align: right;\n",
              "    }\n",
              "</style>\n",
              "<table border=\"1\" class=\"dataframe\">\n",
              "  <thead>\n",
              "    <tr style=\"text-align: right;\">\n",
              "      <th></th>\n",
              "      <th>title</th>\n",
              "      <th>reviews</th>\n",
              "      <th>date</th>\n",
              "      <th>place</th>\n",
              "      <th>year</th>\n",
              "      <th>month</th>\n",
              "      <th>day</th>\n",
              "      <th>revi_score</th>\n",
              "      <th>revi_score_sta</th>\n",
              "      <th>title_score</th>\n",
              "      <th>title_score_sta</th>\n",
              "    </tr>\n",
              "  </thead>\n",
              "  <tbody>\n",
              "    <tr>\n",
              "      <th>0</th>\n",
              "      <td>board drink provid</td>\n",
              "      <td>trip verifi first time fli ba busi class never...</td>\n",
              "      <td>2023-06-25</td>\n",
              "      <td>unit kingdom</td>\n",
              "      <td>2023</td>\n",
              "      <td>6</td>\n",
              "      <td>25</td>\n",
              "      <td>0.0000</td>\n",
              "      <td>neutral</td>\n",
              "      <td>0.0000</td>\n",
              "      <td>neutral</td>\n",
              "    </tr>\n",
              "    <tr>\n",
              "      <th>2</th>\n",
              "      <td>stick economi</td>\n",
              "      <td>trip verifi twoforon review cover economi busi...</td>\n",
              "      <td>2023-06-24</td>\n",
              "      <td>unit kingdom</td>\n",
              "      <td>2023</td>\n",
              "      <td>6</td>\n",
              "      <td>24</td>\n",
              "      <td>0.9382</td>\n",
              "      <td>positive</td>\n",
              "      <td>0.0000</td>\n",
              "      <td>neutral</td>\n",
              "    </tr>\n",
              "    <tr>\n",
              "      <th>1</th>\n",
              "      <td>wifi didnt work</td>\n",
              "      <td>verifi buy sandwich crisp dont expect hot meal...</td>\n",
              "      <td>2023-06-24</td>\n",
              "      <td>unit kingdom</td>\n",
              "      <td>2023</td>\n",
              "      <td>6</td>\n",
              "      <td>24</td>\n",
              "      <td>0.3773</td>\n",
              "      <td>positive</td>\n",
              "      <td>0.0000</td>\n",
              "      <td>neutral</td>\n",
              "    </tr>\n",
              "    <tr>\n",
              "      <th>3</th>\n",
              "      <td>commun terribl</td>\n",
              "      <td>trip verifi absolut horribl airlin commun terr...</td>\n",
              "      <td>2023-06-23</td>\n",
              "      <td>unit state</td>\n",
              "      <td>2023</td>\n",
              "      <td>6</td>\n",
              "      <td>23</td>\n",
              "      <td>-0.6249</td>\n",
              "      <td>negative</td>\n",
              "      <td>0.0000</td>\n",
              "      <td>neutral</td>\n",
              "    </tr>\n",
              "    <tr>\n",
              "      <th>4</th>\n",
              "      <td>delay cancel</td>\n",
              "      <td>trip verifi experienc delay cancel depart usa ...</td>\n",
              "      <td>2023-06-22</td>\n",
              "      <td>unit state</td>\n",
              "      <td>2023</td>\n",
              "      <td>6</td>\n",
              "      <td>22</td>\n",
              "      <td>-0.4767</td>\n",
              "      <td>negative</td>\n",
              "      <td>-0.5106</td>\n",
              "      <td>negative</td>\n",
              "    </tr>\n",
              "  </tbody>\n",
              "</table>\n",
              "</div>\n",
              "      <button class=\"colab-df-convert\" onclick=\"convertToInteractive('df-7135cf44-f073-44eb-89c2-0821f10b5fcc')\"\n",
              "              title=\"Convert this dataframe to an interactive table.\"\n",
              "              style=\"display:none;\">\n",
              "        \n",
              "  <svg xmlns=\"http://www.w3.org/2000/svg\" height=\"24px\"viewBox=\"0 0 24 24\"\n",
              "       width=\"24px\">\n",
              "    <path d=\"M0 0h24v24H0V0z\" fill=\"none\"/>\n",
              "    <path d=\"M18.56 5.44l.94 2.06.94-2.06 2.06-.94-2.06-.94-.94-2.06-.94 2.06-2.06.94zm-11 1L8.5 8.5l.94-2.06 2.06-.94-2.06-.94L8.5 2.5l-.94 2.06-2.06.94zm10 10l.94 2.06.94-2.06 2.06-.94-2.06-.94-.94-2.06-.94 2.06-2.06.94z\"/><path d=\"M17.41 7.96l-1.37-1.37c-.4-.4-.92-.59-1.43-.59-.52 0-1.04.2-1.43.59L10.3 9.45l-7.72 7.72c-.78.78-.78 2.05 0 2.83L4 21.41c.39.39.9.59 1.41.59.51 0 1.02-.2 1.41-.59l7.78-7.78 2.81-2.81c.8-.78.8-2.07 0-2.86zM5.41 20L4 18.59l7.72-7.72 1.47 1.35L5.41 20z\"/>\n",
              "  </svg>\n",
              "      </button>\n",
              "      \n",
              "  <style>\n",
              "    .colab-df-container {\n",
              "      display:flex;\n",
              "      flex-wrap:wrap;\n",
              "      gap: 12px;\n",
              "    }\n",
              "\n",
              "    .colab-df-convert {\n",
              "      background-color: #E8F0FE;\n",
              "      border: none;\n",
              "      border-radius: 50%;\n",
              "      cursor: pointer;\n",
              "      display: none;\n",
              "      fill: #1967D2;\n",
              "      height: 32px;\n",
              "      padding: 0 0 0 0;\n",
              "      width: 32px;\n",
              "    }\n",
              "\n",
              "    .colab-df-convert:hover {\n",
              "      background-color: #E2EBFA;\n",
              "      box-shadow: 0px 1px 2px rgba(60, 64, 67, 0.3), 0px 1px 3px 1px rgba(60, 64, 67, 0.15);\n",
              "      fill: #174EA6;\n",
              "    }\n",
              "\n",
              "    [theme=dark] .colab-df-convert {\n",
              "      background-color: #3B4455;\n",
              "      fill: #D2E3FC;\n",
              "    }\n",
              "\n",
              "    [theme=dark] .colab-df-convert:hover {\n",
              "      background-color: #434B5C;\n",
              "      box-shadow: 0px 1px 3px 1px rgba(0, 0, 0, 0.15);\n",
              "      filter: drop-shadow(0px 1px 2px rgba(0, 0, 0, 0.3));\n",
              "      fill: #FFFFFF;\n",
              "    }\n",
              "  </style>\n",
              "\n",
              "      <script>\n",
              "        const buttonEl =\n",
              "          document.querySelector('#df-7135cf44-f073-44eb-89c2-0821f10b5fcc button.colab-df-convert');\n",
              "        buttonEl.style.display =\n",
              "          google.colab.kernel.accessAllowed ? 'block' : 'none';\n",
              "\n",
              "        async function convertToInteractive(key) {\n",
              "          const element = document.querySelector('#df-7135cf44-f073-44eb-89c2-0821f10b5fcc');\n",
              "          const dataTable =\n",
              "            await google.colab.kernel.invokeFunction('convertToInteractive',\n",
              "                                                     [key], {});\n",
              "          if (!dataTable) return;\n",
              "\n",
              "          const docLinkHtml = 'Like what you see? Visit the ' +\n",
              "            '<a target=\"_blank\" href=https://colab.research.google.com/notebooks/data_table.ipynb>data table notebook</a>'\n",
              "            + ' to learn more about interactive tables.';\n",
              "          element.innerHTML = '';\n",
              "          dataTable['output_type'] = 'display_data';\n",
              "          await google.colab.output.renderOutput(dataTable, element);\n",
              "          const docLink = document.createElement('div');\n",
              "          docLink.innerHTML = docLinkHtml;\n",
              "          element.appendChild(docLink);\n",
              "        }\n",
              "      </script>\n",
              "    </div>\n",
              "  </div>\n",
              "  "
            ]
          },
          "metadata": {},
          "execution_count": 243
        }
      ],
      "source": [
        "d.head()"
      ]
    },
    {
      "cell_type": "code",
      "execution_count": 244,
      "id": "20e6f118",
      "metadata": {
        "colab": {
          "base_uri": "https://localhost:8080/"
        },
        "id": "20e6f118",
        "outputId": "7df68807-6608-4d08-cb9d-27d524168859"
      },
      "outputs": [
        {
          "output_type": "execute_result",
          "data": {
            "text/plain": [
              "year\n",
              "2015    0.390824\n",
              "2016    0.353458\n",
              "2019    0.273862\n",
              "2018    0.270908\n",
              "2020    0.249677\n",
              "2017    0.219365\n",
              "2021    0.208007\n",
              "2022    0.179797\n",
              "2023    0.002803\n",
              "Name: revi_score, dtype: float64"
            ]
          },
          "metadata": {},
          "execution_count": 244
        }
      ],
      "source": [
        "d.groupby('year').revi_score.mean().sort_values(ascending=False)"
      ]
    },
    {
      "cell_type": "code",
      "execution_count": 245,
      "id": "6700d777",
      "metadata": {
        "id": "6700d777"
      },
      "outputs": [],
      "source": [
        "d2015 = d[d['year']==2015]"
      ]
    },
    {
      "cell_type": "code",
      "execution_count": 246,
      "id": "3f032967",
      "metadata": {
        "colab": {
          "base_uri": "https://localhost:8080/"
        },
        "id": "3f032967",
        "outputId": "5e634b5e-9d48-4dc4-8f45-a07bb725e746"
      },
      "outputs": [
        {
          "output_type": "execute_result",
          "data": {
            "text/plain": [
              "0.3908238434163701"
            ]
          },
          "metadata": {},
          "execution_count": 246
        }
      ],
      "source": [
        "score2015 = d2015['revi_score'].mean()\n",
        "score2015"
      ]
    },
    {
      "cell_type": "code",
      "execution_count": 247,
      "id": "104f6446",
      "metadata": {
        "colab": {
          "base_uri": "https://localhost:8080/"
        },
        "id": "104f6446",
        "outputId": "3931950c-3413-4cc0-9650-f51ec06c2c13"
      },
      "outputs": [
        {
          "output_type": "execute_result",
          "data": {
            "text/plain": [
              "0.2786858022579543"
            ]
          },
          "metadata": {},
          "execution_count": 247
        }
      ],
      "source": [
        "sum(d['revi_score'])/len(d)"
      ]
    },
    {
      "cell_type": "code",
      "execution_count": 248,
      "id": "798bec2b",
      "metadata": {
        "id": "798bec2b"
      },
      "outputs": [],
      "source": [
        "l = [2015,\n",
        "2016,\n",
        "2019,\n",
        "2018,\n",
        "2020,\n",
        "2017,\n",
        "2021,\n",
        "2022,\n",
        "2023]\n",
        "\n",
        "l = sorted(l)\n",
        "sc = []\n",
        "for i in l:\n",
        "    su = d[d['year']==i]\n",
        "    sc.append(sum(su['revi_score'])/len(su))"
      ]
    },
    {
      "cell_type": "code",
      "execution_count": 249,
      "id": "27e9e9e0",
      "metadata": {
        "colab": {
          "base_uri": "https://localhost:8080/"
        },
        "id": "27e9e9e0",
        "outputId": "fb92e23a-e4e7-4d16-e3ad-1f43e4683691"
      },
      "outputs": [
        {
          "output_type": "execute_result",
          "data": {
            "text/plain": [
              "[0.39082384341637044,\n",
              " 0.3534584210526315,\n",
              " 0.2193652097902099,\n",
              " 0.27090833333333314,\n",
              " 0.2738620786516852,\n",
              " 0.24967692307692305,\n",
              " 0.20800689655172408,\n",
              " 0.17979718309859147,\n",
              " 0.002802962962962943]"
            ]
          },
          "metadata": {},
          "execution_count": 249
        }
      ],
      "source": [
        "sc"
      ]
    },
    {
      "cell_type": "code",
      "execution_count": 250,
      "id": "7534b8f9",
      "metadata": {
        "colab": {
          "base_uri": "https://localhost:8080/"
        },
        "id": "7534b8f9",
        "outputId": "8e183bad-bdef-4e45-f574-a5abc6dfff72"
      },
      "outputs": [
        {
          "output_type": "execute_result",
          "data": {
            "text/plain": [
              "year\n",
              "2021    0.056510\n",
              "2022    0.055426\n",
              "2019    0.053767\n",
              "2016    0.031614\n",
              "2018    0.026934\n",
              "2015    0.021610\n",
              "2020    0.020567\n",
              "2017   -0.018506\n",
              "2023   -0.050856\n",
              "Name: title_score, dtype: float64"
            ]
          },
          "metadata": {},
          "execution_count": 250
        }
      ],
      "source": [
        "d.groupby('year').title_score.mean().sort_values(ascending=False)"
      ]
    },
    {
      "cell_type": "code",
      "execution_count": 251,
      "id": "4d66b0ae",
      "metadata": {
        "id": "4d66b0ae"
      },
      "outputs": [],
      "source": [
        "#plt.plot(d.groupby('year').revi_score.mean(),label='review score')\n",
        "#plt.plot(d.groupby('year').title_score.mean(),label='title score')\n",
        "#plt.legend()\n",
        "#plt.show()"
      ]
    },
    {
      "cell_type": "code",
      "execution_count": 252,
      "id": "fa09e117",
      "metadata": {
        "id": "fa09e117"
      },
      "outputs": [],
      "source": [
        "#plt.figure(figsize=(12,4))\n",
        "#plt.plot(d.groupby('month').revi_score.mean(),label='revi score')\n",
        "#plt.plot(d.groupby('month').title_score.mean(),label='title score')\n",
        "#plt.legend()\n",
        "#plt.show()"
      ]
    },
    {
      "cell_type": "code",
      "execution_count": 253,
      "id": "364f3d03",
      "metadata": {
        "id": "364f3d03"
      },
      "outputs": [],
      "source": [
        "#plt.figure(figsize=(12,4))\n",
        "#plt.plot(d.groupby('day').revi_score.mean(),label='revi score')\n",
        "#plt.plot(d.groupby('day').title_score.mean(),label='title score')\n",
        "#plt.legend()\n",
        "#plt.show()"
      ]
    },
    {
      "cell_type": "code",
      "execution_count": 254,
      "id": "43cd4fbc",
      "metadata": {
        "id": "43cd4fbc"
      },
      "outputs": [],
      "source": [
        "#plt.figure(figsize=(12,4))\n",
        "#plt.plot(d['revi_score'])"
      ]
    },
    {
      "cell_type": "code",
      "execution_count": 255,
      "id": "921d2ef5",
      "metadata": {
        "id": "921d2ef5"
      },
      "outputs": [],
      "source": [
        "#plt.scatter(d['day'],d['revi_score'])"
      ]
    },
    {
      "cell_type": "code",
      "execution_count": 256,
      "id": "40b5c675",
      "metadata": {
        "id": "40b5c675"
      },
      "outputs": [],
      "source": [
        "score = (d['revi_score']-d['revi_score'].min())/(d['revi_score'].max()-d['revi_score'].min())"
      ]
    },
    {
      "cell_type": "code",
      "execution_count": 257,
      "id": "8681963f",
      "metadata": {
        "id": "8681963f"
      },
      "outputs": [],
      "source": [
        "#plt.plot(score)"
      ]
    },
    {
      "cell_type": "code",
      "execution_count": 258,
      "id": "909fa554",
      "metadata": {
        "id": "909fa554"
      },
      "outputs": [],
      "source": [
        "#plt.figure(figsize=(12,4))\n",
        "#sns.countplot(d.revi_score.value_counts());"
      ]
    },
    {
      "cell_type": "code",
      "execution_count": 259,
      "id": "38eb7788",
      "metadata": {
        "colab": {
          "base_uri": "https://localhost:8080/"
        },
        "id": "38eb7788",
        "outputId": "c8b2dd45-b921-4f76-94a9-822c6fc413a7"
      },
      "outputs": [
        {
          "output_type": "execute_result",
          "data": {
            "text/plain": [
              "year  revi_score\n",
              "2019   0.3612       9\n",
              "2017   0.7269       7\n",
              "       0.0000       7\n",
              "      -0.4215       7\n",
              "2016   0.5859       7\n",
              "                   ..\n",
              "2017  -0.6426       1\n",
              "      -0.6470       1\n",
              "      -0.6491       1\n",
              "      -0.6597       1\n",
              "2023   0.9933       1\n",
              "Name: revi_score, Length: 1911, dtype: int64"
            ]
          },
          "metadata": {},
          "execution_count": 259
        }
      ],
      "source": [
        "d.groupby('year').revi_score.value_counts().sort_values(ascending=False)"
      ]
    },
    {
      "cell_type": "code",
      "execution_count": 260,
      "id": "2e1058da",
      "metadata": {
        "id": "2e1058da"
      },
      "outputs": [],
      "source": [
        "#fig = go.Figure(data=go.Mesh3d(x = d['year'],\n",
        "#                              y = d['revi_score'],\n",
        "#                              z = d['title_score']))\n",
        "#fig"
      ]
    },
    {
      "cell_type": "code",
      "execution_count": 261,
      "id": "fb1f8d5a",
      "metadata": {
        "id": "fb1f8d5a"
      },
      "outputs": [],
      "source": [
        "#fig = px.line(d['revi_score'])\n",
        "#fig"
      ]
    },
    {
      "cell_type": "code",
      "execution_count": 262,
      "id": "8cba664a",
      "metadata": {
        "id": "8cba664a"
      },
      "outputs": [],
      "source": [
        "#fig = px.line_3d(d, x='revi_score',\n",
        "#                y='year',\n",
        "#                z='year')\n",
        "#fig"
      ]
    },
    {
      "cell_type": "code",
      "execution_count": 263,
      "id": "47cb804a",
      "metadata": {
        "id": "47cb804a"
      },
      "outputs": [],
      "source": [
        "#import plotly.express as px\n",
        "#fig = px.scatter(d,'year',\n",
        "#                              #y = 'title_score',\n",
        "#                               'revi_score',color='revi_score')\n",
        "#fig.show()"
      ]
    },
    {
      "cell_type": "code",
      "execution_count": 264,
      "id": "306822b4",
      "metadata": {
        "id": "306822b4"
      },
      "outputs": [],
      "source": [
        "#fig = px.scatter(d, 'year', 'title_score',color='title_score')\n",
        "#fig.show()"
      ]
    },
    {
      "cell_type": "code",
      "execution_count": 265,
      "id": "2d4236b9",
      "metadata": {
        "scrolled": true,
        "colab": {
          "base_uri": "https://localhost:8080/"
        },
        "id": "2d4236b9",
        "outputId": "b745bc78-aa6b-471a-fee0-63b78a235cd5"
      },
      "outputs": [
        {
          "output_type": "execute_result",
          "data": {
            "text/plain": [
              "place\n",
              "indonesia    -0.639300\n",
              "egypt        -0.493900\n",
              "nigeria      -0.442150\n",
              "bermuda      -0.425450\n",
              "taiwan       -0.308533\n",
              "                ...   \n",
              "luxembourg    0.905850\n",
              "brazil        0.919750\n",
              "panama        0.946000\n",
              "vietnam       0.983300\n",
              "iceland       0.983700\n",
              "Name: revi_score, Length: 67, dtype: float64"
            ]
          },
          "metadata": {},
          "execution_count": 265
        }
      ],
      "source": [
        "d.groupby('place').revi_score.mean().sort_values()"
      ]
    },
    {
      "cell_type": "code",
      "execution_count": 266,
      "id": "2084876f",
      "metadata": {
        "id": "2084876f"
      },
      "outputs": [],
      "source": [
        "#plt.figure(figsize=(12,4))\n",
        "#plt.xticks(rotation=90)\n",
        "#sns.barplot(d['place'],d['revi_score'].sort_values(ascending=False));"
      ]
    },
    {
      "cell_type": "code",
      "execution_count": 267,
      "id": "0d8d34d4",
      "metadata": {
        "id": "0d8d34d4"
      },
      "outputs": [],
      "source": [
        "#plt.figure(figsize=(12,4))\n",
        "#text = ' '.join(d['reviews'])\n",
        "#wordcloud = WordCloud().generate(text)\n",
        "#plt.imshow(wordcloud, interpolation='bilinear')\n",
        "#plt.axis('off')\n",
        "#plt.show()"
      ]
    },
    {
      "cell_type": "markdown",
      "id": "b6537e98",
      "metadata": {
        "id": "b6537e98"
      },
      "source": [
        "## Data Modeling"
      ]
    },
    {
      "cell_type": "code",
      "execution_count": 268,
      "id": "ad921b40",
      "metadata": {
        "id": "ad921b40"
      },
      "outputs": [],
      "source": [
        "#text = list(d['reviews'])\n",
        "#docs = [simple_preprocess(doc) for doc in text]\n",
        "#dictionary = corpora.Dictionary(docs)\n",
        "#corpus = [dictionary.doc2bow(doc) for doc in docs]\n",
        "#num = 10\n",
        "#lda_model = gensim.models.LdaModel(corpus, num_topics=num,id2word=dictionary, passes=10)\n",
        "#for topic_id, topic_word in lda_model.print_topics():\n",
        "#    print(f'topic {topic_id}: {topic_word} \\n')"
      ]
    },
    {
      "cell_type": "code",
      "execution_count": 269,
      "id": "e526ceca",
      "metadata": {
        "id": "e526ceca"
      },
      "outputs": [],
      "source": [
        "#text = list(d['title'])\n",
        "#docs = [simple_preprocess(doc) for doc in text]\n",
        "#dictionary = corpora.Dictionary(docs)\n",
        "#corpus = [dictionary.doc2bow(doc) for doc in docs]\n",
        "#num = 10\n",
        "#lda_model = gensim.models.LdaModel(corpus, num_topics=num,id2word=dictionary, passes=10)\n",
        "#for topic_id, topic_word in lda_model.print_topics():\n",
        "#    print(f'topic {topic_id}: {topic_word} \\n')"
      ]
    },
    {
      "cell_type": "markdown",
      "id": "c65dda6e",
      "metadata": {
        "id": "c65dda6e"
      },
      "source": [
        "## Text Classification"
      ]
    },
    {
      "cell_type": "code",
      "execution_count": 270,
      "id": "08b69252",
      "metadata": {
        "colab": {
          "base_uri": "https://localhost:8080/",
          "height": 337
        },
        "id": "08b69252",
        "outputId": "ac83ddfd-3a03-4118-f9ac-508fde8e3bcf"
      },
      "outputs": [
        {
          "output_type": "execute_result",
          "data": {
            "text/plain": [
              "                title                                            reviews  \\\n",
              "0  board drink provid  trip verifi first time fli ba busi class never...   \n",
              "2       stick economi  trip verifi twoforon review cover economi busi...   \n",
              "1     wifi didnt work  verifi buy sandwich crisp dont expect hot meal...   \n",
              "3      commun terribl  trip verifi absolut horribl airlin commun terr...   \n",
              "4        delay cancel  trip verifi experienc delay cancel depart usa ...   \n",
              "\n",
              "        date         place  year  month  day  revi_score revi_score_sta  \\\n",
              "0 2023-06-25  unit kingdom  2023      6   25      0.0000        neutral   \n",
              "2 2023-06-24  unit kingdom  2023      6   24      0.9382       positive   \n",
              "1 2023-06-24  unit kingdom  2023      6   24      0.3773       positive   \n",
              "3 2023-06-23    unit state  2023      6   23     -0.6249       negative   \n",
              "4 2023-06-22    unit state  2023      6   22     -0.4767       negative   \n",
              "\n",
              "   title_score title_score_sta  \n",
              "0       0.0000         neutral  \n",
              "2       0.0000         neutral  \n",
              "1       0.0000         neutral  \n",
              "3       0.0000         neutral  \n",
              "4      -0.5106        negative  "
            ],
            "text/html": [
              "\n",
              "  <div id=\"df-f5b41dae-5adb-4558-bb08-cd1604747432\">\n",
              "    <div class=\"colab-df-container\">\n",
              "      <div>\n",
              "<style scoped>\n",
              "    .dataframe tbody tr th:only-of-type {\n",
              "        vertical-align: middle;\n",
              "    }\n",
              "\n",
              "    .dataframe tbody tr th {\n",
              "        vertical-align: top;\n",
              "    }\n",
              "\n",
              "    .dataframe thead th {\n",
              "        text-align: right;\n",
              "    }\n",
              "</style>\n",
              "<table border=\"1\" class=\"dataframe\">\n",
              "  <thead>\n",
              "    <tr style=\"text-align: right;\">\n",
              "      <th></th>\n",
              "      <th>title</th>\n",
              "      <th>reviews</th>\n",
              "      <th>date</th>\n",
              "      <th>place</th>\n",
              "      <th>year</th>\n",
              "      <th>month</th>\n",
              "      <th>day</th>\n",
              "      <th>revi_score</th>\n",
              "      <th>revi_score_sta</th>\n",
              "      <th>title_score</th>\n",
              "      <th>title_score_sta</th>\n",
              "    </tr>\n",
              "  </thead>\n",
              "  <tbody>\n",
              "    <tr>\n",
              "      <th>0</th>\n",
              "      <td>board drink provid</td>\n",
              "      <td>trip verifi first time fli ba busi class never...</td>\n",
              "      <td>2023-06-25</td>\n",
              "      <td>unit kingdom</td>\n",
              "      <td>2023</td>\n",
              "      <td>6</td>\n",
              "      <td>25</td>\n",
              "      <td>0.0000</td>\n",
              "      <td>neutral</td>\n",
              "      <td>0.0000</td>\n",
              "      <td>neutral</td>\n",
              "    </tr>\n",
              "    <tr>\n",
              "      <th>2</th>\n",
              "      <td>stick economi</td>\n",
              "      <td>trip verifi twoforon review cover economi busi...</td>\n",
              "      <td>2023-06-24</td>\n",
              "      <td>unit kingdom</td>\n",
              "      <td>2023</td>\n",
              "      <td>6</td>\n",
              "      <td>24</td>\n",
              "      <td>0.9382</td>\n",
              "      <td>positive</td>\n",
              "      <td>0.0000</td>\n",
              "      <td>neutral</td>\n",
              "    </tr>\n",
              "    <tr>\n",
              "      <th>1</th>\n",
              "      <td>wifi didnt work</td>\n",
              "      <td>verifi buy sandwich crisp dont expect hot meal...</td>\n",
              "      <td>2023-06-24</td>\n",
              "      <td>unit kingdom</td>\n",
              "      <td>2023</td>\n",
              "      <td>6</td>\n",
              "      <td>24</td>\n",
              "      <td>0.3773</td>\n",
              "      <td>positive</td>\n",
              "      <td>0.0000</td>\n",
              "      <td>neutral</td>\n",
              "    </tr>\n",
              "    <tr>\n",
              "      <th>3</th>\n",
              "      <td>commun terribl</td>\n",
              "      <td>trip verifi absolut horribl airlin commun terr...</td>\n",
              "      <td>2023-06-23</td>\n",
              "      <td>unit state</td>\n",
              "      <td>2023</td>\n",
              "      <td>6</td>\n",
              "      <td>23</td>\n",
              "      <td>-0.6249</td>\n",
              "      <td>negative</td>\n",
              "      <td>0.0000</td>\n",
              "      <td>neutral</td>\n",
              "    </tr>\n",
              "    <tr>\n",
              "      <th>4</th>\n",
              "      <td>delay cancel</td>\n",
              "      <td>trip verifi experienc delay cancel depart usa ...</td>\n",
              "      <td>2023-06-22</td>\n",
              "      <td>unit state</td>\n",
              "      <td>2023</td>\n",
              "      <td>6</td>\n",
              "      <td>22</td>\n",
              "      <td>-0.4767</td>\n",
              "      <td>negative</td>\n",
              "      <td>-0.5106</td>\n",
              "      <td>negative</td>\n",
              "    </tr>\n",
              "  </tbody>\n",
              "</table>\n",
              "</div>\n",
              "      <button class=\"colab-df-convert\" onclick=\"convertToInteractive('df-f5b41dae-5adb-4558-bb08-cd1604747432')\"\n",
              "              title=\"Convert this dataframe to an interactive table.\"\n",
              "              style=\"display:none;\">\n",
              "        \n",
              "  <svg xmlns=\"http://www.w3.org/2000/svg\" height=\"24px\"viewBox=\"0 0 24 24\"\n",
              "       width=\"24px\">\n",
              "    <path d=\"M0 0h24v24H0V0z\" fill=\"none\"/>\n",
              "    <path d=\"M18.56 5.44l.94 2.06.94-2.06 2.06-.94-2.06-.94-.94-2.06-.94 2.06-2.06.94zm-11 1L8.5 8.5l.94-2.06 2.06-.94-2.06-.94L8.5 2.5l-.94 2.06-2.06.94zm10 10l.94 2.06.94-2.06 2.06-.94-2.06-.94-.94-2.06-.94 2.06-2.06.94z\"/><path d=\"M17.41 7.96l-1.37-1.37c-.4-.4-.92-.59-1.43-.59-.52 0-1.04.2-1.43.59L10.3 9.45l-7.72 7.72c-.78.78-.78 2.05 0 2.83L4 21.41c.39.39.9.59 1.41.59.51 0 1.02-.2 1.41-.59l7.78-7.78 2.81-2.81c.8-.78.8-2.07 0-2.86zM5.41 20L4 18.59l7.72-7.72 1.47 1.35L5.41 20z\"/>\n",
              "  </svg>\n",
              "      </button>\n",
              "      \n",
              "  <style>\n",
              "    .colab-df-container {\n",
              "      display:flex;\n",
              "      flex-wrap:wrap;\n",
              "      gap: 12px;\n",
              "    }\n",
              "\n",
              "    .colab-df-convert {\n",
              "      background-color: #E8F0FE;\n",
              "      border: none;\n",
              "      border-radius: 50%;\n",
              "      cursor: pointer;\n",
              "      display: none;\n",
              "      fill: #1967D2;\n",
              "      height: 32px;\n",
              "      padding: 0 0 0 0;\n",
              "      width: 32px;\n",
              "    }\n",
              "\n",
              "    .colab-df-convert:hover {\n",
              "      background-color: #E2EBFA;\n",
              "      box-shadow: 0px 1px 2px rgba(60, 64, 67, 0.3), 0px 1px 3px 1px rgba(60, 64, 67, 0.15);\n",
              "      fill: #174EA6;\n",
              "    }\n",
              "\n",
              "    [theme=dark] .colab-df-convert {\n",
              "      background-color: #3B4455;\n",
              "      fill: #D2E3FC;\n",
              "    }\n",
              "\n",
              "    [theme=dark] .colab-df-convert:hover {\n",
              "      background-color: #434B5C;\n",
              "      box-shadow: 0px 1px 3px 1px rgba(0, 0, 0, 0.15);\n",
              "      filter: drop-shadow(0px 1px 2px rgba(0, 0, 0, 0.3));\n",
              "      fill: #FFFFFF;\n",
              "    }\n",
              "  </style>\n",
              "\n",
              "      <script>\n",
              "        const buttonEl =\n",
              "          document.querySelector('#df-f5b41dae-5adb-4558-bb08-cd1604747432 button.colab-df-convert');\n",
              "        buttonEl.style.display =\n",
              "          google.colab.kernel.accessAllowed ? 'block' : 'none';\n",
              "\n",
              "        async function convertToInteractive(key) {\n",
              "          const element = document.querySelector('#df-f5b41dae-5adb-4558-bb08-cd1604747432');\n",
              "          const dataTable =\n",
              "            await google.colab.kernel.invokeFunction('convertToInteractive',\n",
              "                                                     [key], {});\n",
              "          if (!dataTable) return;\n",
              "\n",
              "          const docLinkHtml = 'Like what you see? Visit the ' +\n",
              "            '<a target=\"_blank\" href=https://colab.research.google.com/notebooks/data_table.ipynb>data table notebook</a>'\n",
              "            + ' to learn more about interactive tables.';\n",
              "          element.innerHTML = '';\n",
              "          dataTable['output_type'] = 'display_data';\n",
              "          await google.colab.output.renderOutput(dataTable, element);\n",
              "          const docLink = document.createElement('div');\n",
              "          docLink.innerHTML = docLinkHtml;\n",
              "          element.appendChild(docLink);\n",
              "        }\n",
              "      </script>\n",
              "    </div>\n",
              "  </div>\n",
              "  "
            ]
          },
          "metadata": {},
          "execution_count": 270
        }
      ],
      "source": [
        "d.head()"
      ]
    },
    {
      "cell_type": "code",
      "execution_count": 271,
      "id": "9645d529",
      "metadata": {
        "id": "9645d529"
      },
      "outputs": [],
      "source": [
        "from sklearn.preprocessing import LabelEncoder"
      ]
    },
    {
      "cell_type": "code",
      "execution_count": 272,
      "id": "ad81729c",
      "metadata": {
        "id": "ad81729c"
      },
      "outputs": [],
      "source": [
        "labels = d['revi_score_sta']\n",
        "feature = d['reviews']"
      ]
    },
    {
      "cell_type": "code",
      "execution_count": 273,
      "id": "1e022ce7",
      "metadata": {
        "id": "1e022ce7"
      },
      "outputs": [],
      "source": [
        "le = LabelEncoder()\n",
        "labels = le.fit_transform(labels)"
      ]
    },
    {
      "cell_type": "code",
      "execution_count": 274,
      "id": "3397857a",
      "metadata": {
        "id": "3397857a"
      },
      "outputs": [],
      "source": [
        "vectorizer = TfidfVectorizer()\n",
        "features = vectorizer.fit_transform(feature)"
      ]
    },
    {
      "cell_type": "code",
      "execution_count": 275,
      "id": "2cb57522",
      "metadata": {
        "id": "2cb57522"
      },
      "outputs": [],
      "source": [
        "from sklearn.model_selection import train_test_split\n",
        "x_train, x_test, y_train, y_test = train_test_split(features,labels,test_size=0.2)"
      ]
    },
    {
      "cell_type": "code",
      "execution_count": 276,
      "id": "7da3251f",
      "metadata": {
        "id": "7da3251f"
      },
      "outputs": [],
      "source": [
        "from sklearn.svm import SVC\n",
        "m = SVC()\n",
        "m = m.fit(x_train, y_train)\n",
        "pred = m.predict(x_test)"
      ]
    },
    {
      "cell_type": "code",
      "execution_count": 277,
      "id": "36d9f36d",
      "metadata": {
        "colab": {
          "base_uri": "https://localhost:8080/"
        },
        "id": "36d9f36d",
        "outputId": "5095db03-4c50-4f74-f69c-e3b52e878e24"
      },
      "outputs": [
        {
          "output_type": "stream",
          "name": "stdout",
          "text": [
            "0.7914529914529914\n"
          ]
        }
      ],
      "source": [
        "from sklearn.metrics import accuracy_score, classification_report\n",
        "print(accuracy_score(y_test, pred))"
      ]
    },
    {
      "cell_type": "code",
      "execution_count": 278,
      "id": "b628b3c5",
      "metadata": {
        "colab": {
          "base_uri": "https://localhost:8080/"
        },
        "id": "b628b3c5",
        "outputId": "b7c27e6a-1a01-4aac-a729-12e4941dca65"
      },
      "outputs": [
        {
          "output_type": "stream",
          "name": "stdout",
          "text": [
            "              precision    recall  f1-score   support\n",
            "\n",
            "           0       0.76      0.63      0.69       202\n",
            "           1       0.00      0.00      0.00         9\n",
            "           2       0.80      0.90      0.85       374\n",
            "\n",
            "    accuracy                           0.79       585\n",
            "   macro avg       0.52      0.51      0.51       585\n",
            "weighted avg       0.78      0.79      0.78       585\n",
            "\n"
          ]
        }
      ],
      "source": [
        "print(classification_report(y_test, pred))"
      ]
    },
    {
      "cell_type": "code",
      "execution_count": 279,
      "id": "7da0e6fc",
      "metadata": {
        "id": "7da0e6fc"
      },
      "outputs": [],
      "source": [
        "labels = d['title_score_sta']\n",
        "feature = d['title']\n",
        "le = LabelEncoder()\n",
        "labels = le.fit_transform(labels)\n",
        "vectorizer = TfidfVectorizer()\n",
        "features = vectorizer.fit_transform(feature)\n",
        "x_train, x_test, y_train, y_test = train_test_split(features,labels,test_size=0.2)\n",
        "m = SVC()\n",
        "m = m.fit(x_train, y_train)\n",
        "pred = m.predict(x_test)"
      ]
    },
    {
      "cell_type": "code",
      "execution_count": 280,
      "id": "ef03f080",
      "metadata": {
        "colab": {
          "base_uri": "https://localhost:8080/"
        },
        "id": "ef03f080",
        "outputId": "cca3ce63-60a0-475b-fed8-aec3ed20c92c"
      },
      "outputs": [
        {
          "output_type": "stream",
          "name": "stdout",
          "text": [
            "0.8905982905982905\n"
          ]
        }
      ],
      "source": [
        "print(accuracy_score(y_test, pred))"
      ]
    },
    {
      "cell_type": "code",
      "execution_count": 281,
      "id": "e02d3cd0",
      "metadata": {
        "colab": {
          "base_uri": "https://localhost:8080/"
        },
        "id": "e02d3cd0",
        "outputId": "c266649b-23ab-42bb-9f0b-c305b6ec6325"
      },
      "outputs": [
        {
          "output_type": "stream",
          "name": "stdout",
          "text": [
            "              precision    recall  f1-score   support\n",
            "\n",
            "           0       0.91      0.72      0.80       103\n",
            "           1       0.87      1.00      0.93       337\n",
            "           2       0.96      0.77      0.85       145\n",
            "\n",
            "    accuracy                           0.89       585\n",
            "   macro avg       0.91      0.83      0.86       585\n",
            "weighted avg       0.90      0.89      0.89       585\n",
            "\n"
          ]
        }
      ],
      "source": [
        "print(classification_report(y_test, pred))"
      ]
    },
    {
      "cell_type": "code",
      "execution_count": 282,
      "id": "3f7b24a7",
      "metadata": {
        "colab": {
          "base_uri": "https://localhost:8080/"
        },
        "id": "3f7b24a7",
        "outputId": "e8cb5f20-7383-4976-da6e-62e8eff331f5"
      },
      "outputs": [
        {
          "output_type": "stream",
          "name": "stdout",
          "text": [
            "              precision    recall  f1-score   support\n",
            "\n",
            "           0       0.91      0.81      0.86       103\n",
            "           1       0.92      0.99      0.95       337\n",
            "           2       0.97      0.86      0.91       145\n",
            "\n",
            "    accuracy                           0.93       585\n",
            "   macro avg       0.93      0.89      0.91       585\n",
            "weighted avg       0.93      0.93      0.93       585\n",
            "\n"
          ]
        }
      ],
      "source": [
        "from sklearn.ensemble import RandomForestClassifier\n",
        "rf = RandomForestClassifier()\n",
        "m = rf.fit(x_train,y_train)\n",
        "pred = m.predict(x_test)\n",
        "print(classification_report(y_test, pred))"
      ]
    },
    {
      "cell_type": "code",
      "execution_count": 283,
      "id": "6f798607",
      "metadata": {
        "colab": {
          "base_uri": "https://localhost:8080/"
        },
        "id": "6f798607",
        "outputId": "f92779b5-2226-406e-cc17-328116aa8e4b"
      },
      "outputs": [
        {
          "output_type": "stream",
          "name": "stdout",
          "text": [
            "              precision    recall  f1-score   support\n",
            "\n",
            "           0       0.81      0.68      0.74       103\n",
            "           1       0.88      0.95      0.92       337\n",
            "           2       0.86      0.81      0.84       145\n",
            "\n",
            "    accuracy                           0.87       585\n",
            "   macro avg       0.85      0.81      0.83       585\n",
            "weighted avg       0.87      0.87      0.87       585\n",
            "\n"
          ]
        }
      ],
      "source": [
        "from sklearn.naive_bayes import BernoulliNB\n",
        "nb = BernoulliNB()\n",
        "m = nb.fit(x_train, y_train)\n",
        "pred = m.predict(x_test)\n",
        "print(classification_report(y_test, pred))"
      ]
    },
    {
      "cell_type": "code",
      "execution_count": 284,
      "id": "b6776ec3",
      "metadata": {
        "id": "b6776ec3"
      },
      "outputs": [],
      "source": [
        "import tensorflow as tf\n",
        "from tensorflow import keras\n",
        "from keras.layers import Dense, Dropout\n",
        "from keras.models import Sequential"
      ]
    },
    {
      "cell_type": "code",
      "execution_count": 285,
      "id": "bc978584",
      "metadata": {
        "id": "bc978584"
      },
      "outputs": [],
      "source": [
        "tf.random.set_seed(100)\n",
        "model = Sequential()\n",
        "model.add(Dense(256, activation='relu',input_dim=(1481)))\n",
        "model.add(Dense(10, activation='relu'))\n",
        "model.add(Dense(1, activation='sigmoid'))"
      ]
    },
    {
      "cell_type": "code",
      "execution_count": 286,
      "id": "9a5f5221",
      "metadata": {
        "id": "9a5f5221"
      },
      "outputs": [],
      "source": [
        "model.compile(optimizer='adam',loss='categorical_crossentropy',metrics=['accuracy'])"
      ]
    },
    {
      "cell_type": "code",
      "execution_count": 287,
      "id": "56eadce0",
      "metadata": {
        "colab": {
          "base_uri": "https://localhost:8080/"
        },
        "id": "56eadce0",
        "outputId": "5a8cdfba-80f0-4af7-91de-4ffcea02ad29"
      },
      "outputs": [
        {
          "output_type": "stream",
          "name": "stdout",
          "text": [
            "Epoch 1/10\n",
            "74/74 [==============================] - 2s 11ms/step - loss: 0.0000e+00 - accuracy: 0.5701 - val_loss: 0.0000e+00 - val_accuracy: 0.5145\n",
            "Epoch 2/10\n",
            "74/74 [==============================] - 1s 8ms/step - loss: 0.0000e+00 - accuracy: 0.5269 - val_loss: 0.0000e+00 - val_accuracy: 0.4974\n",
            "Epoch 3/10\n",
            "74/74 [==============================] - 1s 9ms/step - loss: 0.0000e+00 - accuracy: 0.5749 - val_loss: 0.0000e+00 - val_accuracy: 0.5333\n",
            "Epoch 4/10\n",
            "74/74 [==============================] - 1s 9ms/step - loss: 0.0000e+00 - accuracy: 0.5932 - val_loss: 0.0000e+00 - val_accuracy: 0.5350\n",
            "Epoch 5/10\n",
            "74/74 [==============================] - 1s 9ms/step - loss: 0.0000e+00 - accuracy: 0.5843 - val_loss: 0.0000e+00 - val_accuracy: 0.5436\n",
            "Epoch 6/10\n",
            "74/74 [==============================] - 1s 13ms/step - loss: 0.0000e+00 - accuracy: 0.6095 - val_loss: 0.0000e+00 - val_accuracy: 0.5487\n",
            "Epoch 7/10\n",
            "74/74 [==============================] - 1s 14ms/step - loss: 0.0000e+00 - accuracy: 0.6082 - val_loss: 0.0000e+00 - val_accuracy: 0.5504\n",
            "Epoch 8/10\n",
            "74/74 [==============================] - 1s 14ms/step - loss: 0.0000e+00 - accuracy: 0.6104 - val_loss: 0.0000e+00 - val_accuracy: 0.5487\n",
            "Epoch 9/10\n",
            "74/74 [==============================] - 1s 9ms/step - loss: 0.0000e+00 - accuracy: 0.6082 - val_loss: 0.0000e+00 - val_accuracy: 0.5470\n",
            "Epoch 10/10\n",
            "74/74 [==============================] - 1s 8ms/step - loss: 0.0000e+00 - accuracy: 0.6116 - val_loss: 0.0000e+00 - val_accuracy: 0.5470\n"
          ]
        }
      ],
      "source": [
        "fit = model.fit(x_train, y_train, epochs=10,validation_data=(x_test, y_test))"
      ]
    },
    {
      "cell_type": "code",
      "execution_count": 294,
      "id": "35992e16",
      "metadata": {
        "colab": {
          "base_uri": "https://localhost:8080/"
        },
        "id": "35992e16",
        "outputId": "2fa3662f-5ed9-4f2a-c05c-9382aaf12ba1"
      },
      "outputs": [
        {
          "output_type": "stream",
          "name": "stdout",
          "text": [
            "                 Entity     Label\n",
            "0                 first   ORDINAL\n",
            "1               qualiti    PERSON\n",
            "2      standard qualiti    PERSON\n",
            "3                  chao    PERSON\n",
            "4                london       GPE\n",
            "...                 ...       ...\n",
            "25676               25a  CARDINAL\n",
            "25677               one  CARDINAL\n",
            "25678               one  CARDINAL\n",
            "25679          european      NORP\n",
            "25680             930am       GPE\n",
            "\n",
            "[25681 rows x 2 columns]\n"
          ]
        }
      ],
      "source": [
        "import pandas as pd\n",
        "import spacy\n",
        "\n",
        "ner_list = []\n",
        "nlp = spacy.load('en_core_web_sm')\n",
        "\n",
        "# Assuming your DataFrame is called 'df' and the column with reviews is named 'reviews'\n",
        "for review in d['reviews']:\n",
        "    doc = nlp(review)\n",
        "    # Perform further processing or analysis with the 'doc' object\n",
        "    # For example, you can access entities in the document using 'doc.ents'\n",
        "    for entity in doc.ents:\n",
        "        ner_list.append({'Entity': entity.text, 'Label': entity.label_})\n",
        "\n",
        "# Create the DataFrame from the list of entities\n",
        "ner = pd.DataFrame(ner_list)\n",
        "\n",
        "# Print the DataFrame\n",
        "print(ner)\n"
      ]
    },
    {
      "cell_type": "code",
      "execution_count": 295,
      "id": "df46c603",
      "metadata": {
        "colab": {
          "base_uri": "https://localhost:8080/",
          "height": 423
        },
        "id": "df46c603",
        "outputId": "c003f77b-72d5-4dce-d49a-bc72b03158c8"
      },
      "outputs": [
        {
          "output_type": "execute_result",
          "data": {
            "text/plain": [
              "                 Entity     Label\n",
              "0                 first   ORDINAL\n",
              "1               qualiti    PERSON\n",
              "2      standard qualiti    PERSON\n",
              "3                  chao    PERSON\n",
              "4                london       GPE\n",
              "...                 ...       ...\n",
              "25676               25a  CARDINAL\n",
              "25677               one  CARDINAL\n",
              "25678               one  CARDINAL\n",
              "25679          european      NORP\n",
              "25680             930am       GPE\n",
              "\n",
              "[25681 rows x 2 columns]"
            ],
            "text/html": [
              "\n",
              "  <div id=\"df-61888c44-fe73-4c13-9f6e-013ddeb807d3\">\n",
              "    <div class=\"colab-df-container\">\n",
              "      <div>\n",
              "<style scoped>\n",
              "    .dataframe tbody tr th:only-of-type {\n",
              "        vertical-align: middle;\n",
              "    }\n",
              "\n",
              "    .dataframe tbody tr th {\n",
              "        vertical-align: top;\n",
              "    }\n",
              "\n",
              "    .dataframe thead th {\n",
              "        text-align: right;\n",
              "    }\n",
              "</style>\n",
              "<table border=\"1\" class=\"dataframe\">\n",
              "  <thead>\n",
              "    <tr style=\"text-align: right;\">\n",
              "      <th></th>\n",
              "      <th>Entity</th>\n",
              "      <th>Label</th>\n",
              "    </tr>\n",
              "  </thead>\n",
              "  <tbody>\n",
              "    <tr>\n",
              "      <th>0</th>\n",
              "      <td>first</td>\n",
              "      <td>ORDINAL</td>\n",
              "    </tr>\n",
              "    <tr>\n",
              "      <th>1</th>\n",
              "      <td>qualiti</td>\n",
              "      <td>PERSON</td>\n",
              "    </tr>\n",
              "    <tr>\n",
              "      <th>2</th>\n",
              "      <td>standard qualiti</td>\n",
              "      <td>PERSON</td>\n",
              "    </tr>\n",
              "    <tr>\n",
              "      <th>3</th>\n",
              "      <td>chao</td>\n",
              "      <td>PERSON</td>\n",
              "    </tr>\n",
              "    <tr>\n",
              "      <th>4</th>\n",
              "      <td>london</td>\n",
              "      <td>GPE</td>\n",
              "    </tr>\n",
              "    <tr>\n",
              "      <th>...</th>\n",
              "      <td>...</td>\n",
              "      <td>...</td>\n",
              "    </tr>\n",
              "    <tr>\n",
              "      <th>25676</th>\n",
              "      <td>25a</td>\n",
              "      <td>CARDINAL</td>\n",
              "    </tr>\n",
              "    <tr>\n",
              "      <th>25677</th>\n",
              "      <td>one</td>\n",
              "      <td>CARDINAL</td>\n",
              "    </tr>\n",
              "    <tr>\n",
              "      <th>25678</th>\n",
              "      <td>one</td>\n",
              "      <td>CARDINAL</td>\n",
              "    </tr>\n",
              "    <tr>\n",
              "      <th>25679</th>\n",
              "      <td>european</td>\n",
              "      <td>NORP</td>\n",
              "    </tr>\n",
              "    <tr>\n",
              "      <th>25680</th>\n",
              "      <td>930am</td>\n",
              "      <td>GPE</td>\n",
              "    </tr>\n",
              "  </tbody>\n",
              "</table>\n",
              "<p>25681 rows × 2 columns</p>\n",
              "</div>\n",
              "      <button class=\"colab-df-convert\" onclick=\"convertToInteractive('df-61888c44-fe73-4c13-9f6e-013ddeb807d3')\"\n",
              "              title=\"Convert this dataframe to an interactive table.\"\n",
              "              style=\"display:none;\">\n",
              "        \n",
              "  <svg xmlns=\"http://www.w3.org/2000/svg\" height=\"24px\"viewBox=\"0 0 24 24\"\n",
              "       width=\"24px\">\n",
              "    <path d=\"M0 0h24v24H0V0z\" fill=\"none\"/>\n",
              "    <path d=\"M18.56 5.44l.94 2.06.94-2.06 2.06-.94-2.06-.94-.94-2.06-.94 2.06-2.06.94zm-11 1L8.5 8.5l.94-2.06 2.06-.94-2.06-.94L8.5 2.5l-.94 2.06-2.06.94zm10 10l.94 2.06.94-2.06 2.06-.94-2.06-.94-.94-2.06-.94 2.06-2.06.94z\"/><path d=\"M17.41 7.96l-1.37-1.37c-.4-.4-.92-.59-1.43-.59-.52 0-1.04.2-1.43.59L10.3 9.45l-7.72 7.72c-.78.78-.78 2.05 0 2.83L4 21.41c.39.39.9.59 1.41.59.51 0 1.02-.2 1.41-.59l7.78-7.78 2.81-2.81c.8-.78.8-2.07 0-2.86zM5.41 20L4 18.59l7.72-7.72 1.47 1.35L5.41 20z\"/>\n",
              "  </svg>\n",
              "      </button>\n",
              "      \n",
              "  <style>\n",
              "    .colab-df-container {\n",
              "      display:flex;\n",
              "      flex-wrap:wrap;\n",
              "      gap: 12px;\n",
              "    }\n",
              "\n",
              "    .colab-df-convert {\n",
              "      background-color: #E8F0FE;\n",
              "      border: none;\n",
              "      border-radius: 50%;\n",
              "      cursor: pointer;\n",
              "      display: none;\n",
              "      fill: #1967D2;\n",
              "      height: 32px;\n",
              "      padding: 0 0 0 0;\n",
              "      width: 32px;\n",
              "    }\n",
              "\n",
              "    .colab-df-convert:hover {\n",
              "      background-color: #E2EBFA;\n",
              "      box-shadow: 0px 1px 2px rgba(60, 64, 67, 0.3), 0px 1px 3px 1px rgba(60, 64, 67, 0.15);\n",
              "      fill: #174EA6;\n",
              "    }\n",
              "\n",
              "    [theme=dark] .colab-df-convert {\n",
              "      background-color: #3B4455;\n",
              "      fill: #D2E3FC;\n",
              "    }\n",
              "\n",
              "    [theme=dark] .colab-df-convert:hover {\n",
              "      background-color: #434B5C;\n",
              "      box-shadow: 0px 1px 3px 1px rgba(0, 0, 0, 0.15);\n",
              "      filter: drop-shadow(0px 1px 2px rgba(0, 0, 0, 0.3));\n",
              "      fill: #FFFFFF;\n",
              "    }\n",
              "  </style>\n",
              "\n",
              "      <script>\n",
              "        const buttonEl =\n",
              "          document.querySelector('#df-61888c44-fe73-4c13-9f6e-013ddeb807d3 button.colab-df-convert');\n",
              "        buttonEl.style.display =\n",
              "          google.colab.kernel.accessAllowed ? 'block' : 'none';\n",
              "\n",
              "        async function convertToInteractive(key) {\n",
              "          const element = document.querySelector('#df-61888c44-fe73-4c13-9f6e-013ddeb807d3');\n",
              "          const dataTable =\n",
              "            await google.colab.kernel.invokeFunction('convertToInteractive',\n",
              "                                                     [key], {});\n",
              "          if (!dataTable) return;\n",
              "\n",
              "          const docLinkHtml = 'Like what you see? Visit the ' +\n",
              "            '<a target=\"_blank\" href=https://colab.research.google.com/notebooks/data_table.ipynb>data table notebook</a>'\n",
              "            + ' to learn more about interactive tables.';\n",
              "          element.innerHTML = '';\n",
              "          dataTable['output_type'] = 'display_data';\n",
              "          await google.colab.output.renderOutput(dataTable, element);\n",
              "          const docLink = document.createElement('div');\n",
              "          docLink.innerHTML = docLinkHtml;\n",
              "          element.appendChild(docLink);\n",
              "        }\n",
              "      </script>\n",
              "    </div>\n",
              "  </div>\n",
              "  "
            ]
          },
          "metadata": {},
          "execution_count": 295
        }
      ],
      "source": [
        "ner"
      ]
    },
    {
      "cell_type": "code",
      "execution_count": 296,
      "id": "1bb73ee2",
      "metadata": {
        "colab": {
          "base_uri": "https://localhost:8080/"
        },
        "id": "1bb73ee2",
        "outputId": "1b9a5f10-11e8-41e3-83d2-bc556d835a72"
      },
      "outputs": [
        {
          "output_type": "execute_result",
          "data": {
            "text/plain": [
              "Entity    Label   \n",
              "british   NORP        1851\n",
              "london    GPE         1771\n",
              "verifi    ORG         1532\n",
              "first     ORDINAL      904\n",
              "one       CARDINAL     844\n",
              "two       CARDINAL     343\n",
              "passeng   PERSON       277\n",
              "airlin    PERSON       243\n",
              "2         CARDINAL     239\n",
              "3         CARDINAL     212\n",
              "airlin    GPE          192\n",
              "5         CARDINAL     185\n",
              "second    ORDINAL      169\n",
              "experi    NORP         166\n",
              "30        CARDINAL     147\n",
              "departur  GPE          138\n",
              "20        CARDINAL     134\n",
              "issu      ORG          132\n",
              "2 hour    TIME         119\n",
              "747       PRODUCT      119\n",
              "777       CARDINAL     117\n",
              "hour      TIME         116\n",
              "4         CARDINAL     114\n",
              "chang     PERSON       113\n",
              "three     CARDINAL     110\n",
              "10        CARDINAL     106\n",
              "half      CARDINAL     103\n",
              "1         CARDINAL      98\n",
              "3 hour    TIME          94\n",
              "plu       ORG           93\n",
              "Name: Label, dtype: int64"
            ]
          },
          "metadata": {},
          "execution_count": 296
        }
      ],
      "source": [
        "ner.groupby('Entity').Label.value_counts().sort_values(ascending=False)[:30]"
      ]
    },
    {
      "cell_type": "code",
      "source": [
        "ner.groupby('Label').Entity.value_counts().sort_values(ascending=False)[:30]"
      ],
      "metadata": {
        "colab": {
          "base_uri": "https://localhost:8080/"
        },
        "id": "SGElRgXExP9v",
        "outputId": "5575b950-c81b-4e27-fd7e-1bf428c2e1e3"
      },
      "id": "SGElRgXExP9v",
      "execution_count": 299,
      "outputs": [
        {
          "output_type": "execute_result",
          "data": {
            "text/plain": [
              "Label     Entity  \n",
              "NORP      british     1851\n",
              "GPE       london      1771\n",
              "ORG       verifi      1532\n",
              "ORDINAL   first        904\n",
              "CARDINAL  one          844\n",
              "          two          343\n",
              "PERSON    passeng      277\n",
              "          airlin       243\n",
              "CARDINAL  2            239\n",
              "          3            212\n",
              "GPE       airlin       192\n",
              "CARDINAL  5            185\n",
              "ORDINAL   second       169\n",
              "NORP      experi       166\n",
              "CARDINAL  30           147\n",
              "GPE       departur     138\n",
              "CARDINAL  20           134\n",
              "ORG       issu         132\n",
              "TIME      2 hour       119\n",
              "PRODUCT   747          119\n",
              "CARDINAL  777          117\n",
              "TIME      hour         116\n",
              "CARDINAL  4            114\n",
              "PERSON    chang        113\n",
              "CARDINAL  three        110\n",
              "          10           106\n",
              "          half         103\n",
              "          1             98\n",
              "TIME      3 hour        94\n",
              "ORG       plu           93\n",
              "Name: Entity, dtype: int64"
            ]
          },
          "metadata": {},
          "execution_count": 299
        }
      ]
    },
    {
      "cell_type": "code",
      "source": [
        "import pandas as pd\n",
        "import spacy\n",
        "\n",
        "ner_list = []\n",
        "nlp = spacy.load('en_core_web_sm')\n",
        "\n",
        "# Assuming your DataFrame is called 'df' and the column with reviews is named 'reviews'\n",
        "for review in df['reviews']:\n",
        "    doc = nlp(review)\n",
        "    # Perform further processing or analysis with the 'doc' object\n",
        "    # For example, you can access entities in the document using 'doc.ents'\n",
        "    for entity in doc.ents:\n",
        "        ner_list.append({'Entity': entity.text, 'Label': entity.label_})\n",
        "\n",
        "# Create the DataFrame from the list of entities\n",
        "ner = pd.DataFrame(ner_list)\n",
        "\n",
        "# Print the DataFrame\n",
        "print(ner)\n"
      ],
      "metadata": {
        "colab": {
          "base_uri": "https://localhost:8080/"
        },
        "id": "K7aV29_-0Tvm",
        "outputId": "48251b66-7f2d-4472-b5d8-1f1bbb97da71"
      },
      "id": "K7aV29_-0Tvm",
      "execution_count": 300,
      "outputs": [
        {
          "output_type": "stream",
          "name": "stdout",
          "text": [
            "              Entity     Label\n",
            "0      Trip Verified    PERSON\n",
            "1              First   ORDINAL\n",
            "2                 BA      NORP\n",
            "3             Bodrum    PERSON\n",
            "4                 BA       ORG\n",
            "...              ...       ...\n",
            "31975            one  CARDINAL\n",
            "31976             11  CARDINAL\n",
            "31977            25A      DATE\n",
            "31978            one  CARDINAL\n",
            "31979       European      NORP\n",
            "\n",
            "[31980 rows x 2 columns]\n"
          ]
        }
      ]
    },
    {
      "cell_type": "code",
      "source": [
        "ner.groupby('Entity').Label.value_counts().sort_values(ascending=False)[:30]"
      ],
      "metadata": {
        "colab": {
          "base_uri": "https://localhost:8080/"
        },
        "id": "quNnusBg2BUo",
        "outputId": "56c19d3f-e309-4c34-a07b-453d6f043fc8"
      },
      "id": "quNnusBg2BUo",
      "execution_count": 301,
      "outputs": [
        {
          "output_type": "execute_result",
          "data": {
            "text/plain": [
              "Entity           Label   \n",
              "BA               ORG         2451\n",
              "British Airways  ORG         1692\n",
              "London           GPE         1401\n",
              "Trip Verified    PERSON      1065\n",
              "Verified Review  ORG          769\n",
              "BA               NORP         727\n",
              "first            ORDINAL      597\n",
              "Heathrow         FAC          548\n",
              "one              CARDINAL     435\n",
              "London Heathrow  PERSON       370\n",
              "two              CARDINAL     337\n",
              "First            ORDINAL      337\n",
              "LHR              ORG          299\n",
              "2                CARDINAL     258\n",
              "3                CARDINAL     203\n",
              "Boeing           ORG          200\n",
              "Cabin            PERSON       200\n",
              "A380             PRODUCT      166\n",
              "second           ORDINAL      155\n",
              "Club World       ORG          151\n",
              "Club Europe      LOC          149\n",
              "Gatwick          GPE          139\n",
              "Singapore        GPE          135\n",
              "747              PRODUCT      122\n",
              "4                CARDINAL     116\n",
              "UK               GPE          107\n",
              "One              CARDINAL     106\n",
              "Ryanair          PERSON       105\n",
              "British          NORP          99\n",
              "three            CARDINAL      98\n",
              "Name: Label, dtype: int64"
            ]
          },
          "metadata": {},
          "execution_count": 301
        }
      ]
    },
    {
      "cell_type": "code",
      "source": [
        "ner.groupby('Label').Entity.value_counts().sort_values(ascending=False)[:30]"
      ],
      "metadata": {
        "colab": {
          "base_uri": "https://localhost:8080/"
        },
        "id": "NbVfgFYz2n0I",
        "outputId": "9b7cebd9-5276-4540-bf6e-518558c5c856"
      },
      "id": "NbVfgFYz2n0I",
      "execution_count": 302,
      "outputs": [
        {
          "output_type": "execute_result",
          "data": {
            "text/plain": [
              "Label     Entity         \n",
              "ORG       BA                 2451\n",
              "          British Airways    1692\n",
              "GPE       London             1401\n",
              "PERSON    Trip Verified      1065\n",
              "ORG       Verified Review     769\n",
              "NORP      BA                  727\n",
              "ORDINAL   first               597\n",
              "FAC       Heathrow            548\n",
              "CARDINAL  one                 435\n",
              "PERSON    London Heathrow     370\n",
              "ORDINAL   First               337\n",
              "CARDINAL  two                 337\n",
              "ORG       LHR                 299\n",
              "CARDINAL  2                   258\n",
              "          3                   203\n",
              "ORG       Boeing              200\n",
              "PERSON    Cabin               200\n",
              "PRODUCT   A380                166\n",
              "ORDINAL   second              155\n",
              "ORG       Club World          151\n",
              "LOC       Club Europe         149\n",
              "GPE       Gatwick             139\n",
              "          Singapore           135\n",
              "PRODUCT   747                 122\n",
              "CARDINAL  4                   116\n",
              "GPE       UK                  107\n",
              "CARDINAL  One                 106\n",
              "PERSON    Ryanair             105\n",
              "NORP      British              99\n",
              "CARDINAL  three                98\n",
              "Name: Entity, dtype: int64"
            ]
          },
          "metadata": {},
          "execution_count": 302
        }
      ]
    },
    {
      "cell_type": "code",
      "source": [],
      "metadata": {
        "id": "NqDlp27o2qSe"
      },
      "id": "NqDlp27o2qSe",
      "execution_count": null,
      "outputs": []
    }
  ],
  "metadata": {
    "kernelspec": {
      "display_name": "Python 3 (ipykernel)",
      "language": "python",
      "name": "python3"
    },
    "language_info": {
      "codemirror_mode": {
        "name": "ipython",
        "version": 3
      },
      "file_extension": ".py",
      "mimetype": "text/x-python",
      "name": "python",
      "nbconvert_exporter": "python",
      "pygments_lexer": "ipython3",
      "version": "3.9.7"
    },
    "colab": {
      "provenance": []
    }
  },
  "nbformat": 4,
  "nbformat_minor": 5
}